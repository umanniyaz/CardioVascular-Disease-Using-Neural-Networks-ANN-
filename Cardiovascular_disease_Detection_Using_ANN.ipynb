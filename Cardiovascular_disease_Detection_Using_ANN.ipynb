{
  "nbformat": 4,
  "nbformat_minor": 0,
  "metadata": {
    "colab": {
      "name": "Cardiovascular disease Detection Using ANN",
      "provenance": [],
      "collapsed_sections": [],
      "authorship_tag": "ABX9TyOiB9pofhOfCSGUyeURqmWo",
      "include_colab_link": true
    },
    "kernelspec": {
      "name": "python3",
      "display_name": "Python 3"
    },
    "accelerator": "GPU"
  },
  "cells": [
    {
      "cell_type": "markdown",
      "metadata": {
        "id": "view-in-github",
        "colab_type": "text"
      },
      "source": [
        "<a href=\"https://colab.research.google.com/github/umanniyaz/Uman/blob/master/Cardiovascular_disease_Detection_Using_ANN.ipynb\" target=\"_parent\"><img src=\"https://colab.research.google.com/assets/colab-badge.svg\" alt=\"Open In Colab\"/></a>"
      ]
    },
    {
      "cell_type": "code",
      "metadata": {
        "id": "bikzk7tRFP06",
        "colab_type": "code",
        "colab": {
          "base_uri": "https://localhost:8080/",
          "height": 122
        },
        "outputId": "1b3498ca-7962-493f-d73c-703a81be7073"
      },
      "source": [
        "from google.colab import drive\n",
        "drive.mount('/content/drive/')"
      ],
      "execution_count": 3,
      "outputs": [
        {
          "output_type": "stream",
          "text": [
            "Go to this URL in a browser: https://accounts.google.com/o/oauth2/auth?client_id=947318989803-6bn6qk8qdgf4n4g3pfee6491hc0brc4i.apps.googleusercontent.com&redirect_uri=urn%3aietf%3awg%3aoauth%3a2.0%3aoob&response_type=code&scope=email%20https%3a%2f%2fwww.googleapis.com%2fauth%2fdocs.test%20https%3a%2f%2fwww.googleapis.com%2fauth%2fdrive%20https%3a%2f%2fwww.googleapis.com%2fauth%2fdrive.photos.readonly%20https%3a%2f%2fwww.googleapis.com%2fauth%2fpeopleapi.readonly\n",
            "\n",
            "Enter your authorization code:\n",
            "··········\n",
            "Mounted at /content/drive/\n"
          ],
          "name": "stdout"
        }
      ]
    },
    {
      "cell_type": "code",
      "metadata": {
        "id": "lWNMrht9Femd",
        "colab_type": "code",
        "colab": {}
      },
      "source": [
        "#importing libraries\n",
        "\n",
        "\n",
        "import pandas as pd\n",
        "import seaborn as sns\n",
        "import numpy as np\n",
        "import matplotlib.pyplot as py"
      ],
      "execution_count": 0,
      "outputs": []
    },
    {
      "cell_type": "code",
      "metadata": {
        "id": "LM71onp5HjKD",
        "colab_type": "code",
        "colab": {}
      },
      "source": [
        " data=pd.read_csv('/content/drive/My Drive/cardio_train.csv',sep=';')"
      ],
      "execution_count": 0,
      "outputs": []
    },
    {
      "cell_type": "code",
      "metadata": {
        "id": "KLMseCHrHqeR",
        "colab_type": "code",
        "colab": {
          "base_uri": "https://localhost:8080/",
          "height": 204
        },
        "outputId": "3613dd9f-ac19-4e8f-a20b-532e93027bf3"
      },
      "source": [
        "data.head()"
      ],
      "execution_count": 6,
      "outputs": [
        {
          "output_type": "execute_result",
          "data": {
            "text/html": [
              "<div>\n",
              "<style scoped>\n",
              "    .dataframe tbody tr th:only-of-type {\n",
              "        vertical-align: middle;\n",
              "    }\n",
              "\n",
              "    .dataframe tbody tr th {\n",
              "        vertical-align: top;\n",
              "    }\n",
              "\n",
              "    .dataframe thead th {\n",
              "        text-align: right;\n",
              "    }\n",
              "</style>\n",
              "<table border=\"1\" class=\"dataframe\">\n",
              "  <thead>\n",
              "    <tr style=\"text-align: right;\">\n",
              "      <th></th>\n",
              "      <th>id</th>\n",
              "      <th>age</th>\n",
              "      <th>gender</th>\n",
              "      <th>height</th>\n",
              "      <th>weight</th>\n",
              "      <th>ap_hi</th>\n",
              "      <th>ap_lo</th>\n",
              "      <th>cholesterol</th>\n",
              "      <th>gluc</th>\n",
              "      <th>smoke</th>\n",
              "      <th>alco</th>\n",
              "      <th>active</th>\n",
              "      <th>cardio</th>\n",
              "    </tr>\n",
              "  </thead>\n",
              "  <tbody>\n",
              "    <tr>\n",
              "      <th>0</th>\n",
              "      <td>0</td>\n",
              "      <td>18393</td>\n",
              "      <td>2</td>\n",
              "      <td>168</td>\n",
              "      <td>62.0</td>\n",
              "      <td>110</td>\n",
              "      <td>80</td>\n",
              "      <td>1</td>\n",
              "      <td>1</td>\n",
              "      <td>0</td>\n",
              "      <td>0</td>\n",
              "      <td>1</td>\n",
              "      <td>0</td>\n",
              "    </tr>\n",
              "    <tr>\n",
              "      <th>1</th>\n",
              "      <td>1</td>\n",
              "      <td>20228</td>\n",
              "      <td>1</td>\n",
              "      <td>156</td>\n",
              "      <td>85.0</td>\n",
              "      <td>140</td>\n",
              "      <td>90</td>\n",
              "      <td>3</td>\n",
              "      <td>1</td>\n",
              "      <td>0</td>\n",
              "      <td>0</td>\n",
              "      <td>1</td>\n",
              "      <td>1</td>\n",
              "    </tr>\n",
              "    <tr>\n",
              "      <th>2</th>\n",
              "      <td>2</td>\n",
              "      <td>18857</td>\n",
              "      <td>1</td>\n",
              "      <td>165</td>\n",
              "      <td>64.0</td>\n",
              "      <td>130</td>\n",
              "      <td>70</td>\n",
              "      <td>3</td>\n",
              "      <td>1</td>\n",
              "      <td>0</td>\n",
              "      <td>0</td>\n",
              "      <td>0</td>\n",
              "      <td>1</td>\n",
              "    </tr>\n",
              "    <tr>\n",
              "      <th>3</th>\n",
              "      <td>3</td>\n",
              "      <td>17623</td>\n",
              "      <td>2</td>\n",
              "      <td>169</td>\n",
              "      <td>82.0</td>\n",
              "      <td>150</td>\n",
              "      <td>100</td>\n",
              "      <td>1</td>\n",
              "      <td>1</td>\n",
              "      <td>0</td>\n",
              "      <td>0</td>\n",
              "      <td>1</td>\n",
              "      <td>1</td>\n",
              "    </tr>\n",
              "    <tr>\n",
              "      <th>4</th>\n",
              "      <td>4</td>\n",
              "      <td>17474</td>\n",
              "      <td>1</td>\n",
              "      <td>156</td>\n",
              "      <td>56.0</td>\n",
              "      <td>100</td>\n",
              "      <td>60</td>\n",
              "      <td>1</td>\n",
              "      <td>1</td>\n",
              "      <td>0</td>\n",
              "      <td>0</td>\n",
              "      <td>0</td>\n",
              "      <td>0</td>\n",
              "    </tr>\n",
              "  </tbody>\n",
              "</table>\n",
              "</div>"
            ],
            "text/plain": [
              "   id    age  gender  height  weight  ...  gluc  smoke  alco  active  cardio\n",
              "0   0  18393       2     168    62.0  ...     1      0     0       1       0\n",
              "1   1  20228       1     156    85.0  ...     1      0     0       1       1\n",
              "2   2  18857       1     165    64.0  ...     1      0     0       0       1\n",
              "3   3  17623       2     169    82.0  ...     1      0     0       1       1\n",
              "4   4  17474       1     156    56.0  ...     1      0     0       0       0\n",
              "\n",
              "[5 rows x 13 columns]"
            ]
          },
          "metadata": {
            "tags": []
          },
          "execution_count": 6
        }
      ]
    },
    {
      "cell_type": "code",
      "metadata": {
        "id": "109Qo96rIv-L",
        "colab_type": "code",
        "colab": {
          "base_uri": "https://localhost:8080/",
          "height": 317
        },
        "outputId": "072e94cb-78ef-493c-c0ac-3df0fb4fc5e7"
      },
      "source": [
        "#Stats about Data.\n",
        "\n",
        "data.describe() "
      ],
      "execution_count": 7,
      "outputs": [
        {
          "output_type": "execute_result",
          "data": {
            "text/html": [
              "<div>\n",
              "<style scoped>\n",
              "    .dataframe tbody tr th:only-of-type {\n",
              "        vertical-align: middle;\n",
              "    }\n",
              "\n",
              "    .dataframe tbody tr th {\n",
              "        vertical-align: top;\n",
              "    }\n",
              "\n",
              "    .dataframe thead th {\n",
              "        text-align: right;\n",
              "    }\n",
              "</style>\n",
              "<table border=\"1\" class=\"dataframe\">\n",
              "  <thead>\n",
              "    <tr style=\"text-align: right;\">\n",
              "      <th></th>\n",
              "      <th>id</th>\n",
              "      <th>age</th>\n",
              "      <th>gender</th>\n",
              "      <th>height</th>\n",
              "      <th>weight</th>\n",
              "      <th>ap_hi</th>\n",
              "      <th>ap_lo</th>\n",
              "      <th>cholesterol</th>\n",
              "      <th>gluc</th>\n",
              "      <th>smoke</th>\n",
              "      <th>alco</th>\n",
              "      <th>active</th>\n",
              "      <th>cardio</th>\n",
              "    </tr>\n",
              "  </thead>\n",
              "  <tbody>\n",
              "    <tr>\n",
              "      <th>count</th>\n",
              "      <td>70000.000000</td>\n",
              "      <td>70000.000000</td>\n",
              "      <td>70000.000000</td>\n",
              "      <td>70000.000000</td>\n",
              "      <td>70000.000000</td>\n",
              "      <td>70000.000000</td>\n",
              "      <td>70000.000000</td>\n",
              "      <td>70000.000000</td>\n",
              "      <td>70000.000000</td>\n",
              "      <td>70000.000000</td>\n",
              "      <td>70000.000000</td>\n",
              "      <td>70000.000000</td>\n",
              "      <td>70000.000000</td>\n",
              "    </tr>\n",
              "    <tr>\n",
              "      <th>mean</th>\n",
              "      <td>49972.419900</td>\n",
              "      <td>19468.865814</td>\n",
              "      <td>1.349571</td>\n",
              "      <td>164.359229</td>\n",
              "      <td>74.205690</td>\n",
              "      <td>128.817286</td>\n",
              "      <td>96.630414</td>\n",
              "      <td>1.366871</td>\n",
              "      <td>1.226457</td>\n",
              "      <td>0.088129</td>\n",
              "      <td>0.053771</td>\n",
              "      <td>0.803729</td>\n",
              "      <td>0.499700</td>\n",
              "    </tr>\n",
              "    <tr>\n",
              "      <th>std</th>\n",
              "      <td>28851.302323</td>\n",
              "      <td>2467.251667</td>\n",
              "      <td>0.476838</td>\n",
              "      <td>8.210126</td>\n",
              "      <td>14.395757</td>\n",
              "      <td>154.011419</td>\n",
              "      <td>188.472530</td>\n",
              "      <td>0.680250</td>\n",
              "      <td>0.572270</td>\n",
              "      <td>0.283484</td>\n",
              "      <td>0.225568</td>\n",
              "      <td>0.397179</td>\n",
              "      <td>0.500003</td>\n",
              "    </tr>\n",
              "    <tr>\n",
              "      <th>min</th>\n",
              "      <td>0.000000</td>\n",
              "      <td>10798.000000</td>\n",
              "      <td>1.000000</td>\n",
              "      <td>55.000000</td>\n",
              "      <td>10.000000</td>\n",
              "      <td>-150.000000</td>\n",
              "      <td>-70.000000</td>\n",
              "      <td>1.000000</td>\n",
              "      <td>1.000000</td>\n",
              "      <td>0.000000</td>\n",
              "      <td>0.000000</td>\n",
              "      <td>0.000000</td>\n",
              "      <td>0.000000</td>\n",
              "    </tr>\n",
              "    <tr>\n",
              "      <th>25%</th>\n",
              "      <td>25006.750000</td>\n",
              "      <td>17664.000000</td>\n",
              "      <td>1.000000</td>\n",
              "      <td>159.000000</td>\n",
              "      <td>65.000000</td>\n",
              "      <td>120.000000</td>\n",
              "      <td>80.000000</td>\n",
              "      <td>1.000000</td>\n",
              "      <td>1.000000</td>\n",
              "      <td>0.000000</td>\n",
              "      <td>0.000000</td>\n",
              "      <td>1.000000</td>\n",
              "      <td>0.000000</td>\n",
              "    </tr>\n",
              "    <tr>\n",
              "      <th>50%</th>\n",
              "      <td>50001.500000</td>\n",
              "      <td>19703.000000</td>\n",
              "      <td>1.000000</td>\n",
              "      <td>165.000000</td>\n",
              "      <td>72.000000</td>\n",
              "      <td>120.000000</td>\n",
              "      <td>80.000000</td>\n",
              "      <td>1.000000</td>\n",
              "      <td>1.000000</td>\n",
              "      <td>0.000000</td>\n",
              "      <td>0.000000</td>\n",
              "      <td>1.000000</td>\n",
              "      <td>0.000000</td>\n",
              "    </tr>\n",
              "    <tr>\n",
              "      <th>75%</th>\n",
              "      <td>74889.250000</td>\n",
              "      <td>21327.000000</td>\n",
              "      <td>2.000000</td>\n",
              "      <td>170.000000</td>\n",
              "      <td>82.000000</td>\n",
              "      <td>140.000000</td>\n",
              "      <td>90.000000</td>\n",
              "      <td>2.000000</td>\n",
              "      <td>1.000000</td>\n",
              "      <td>0.000000</td>\n",
              "      <td>0.000000</td>\n",
              "      <td>1.000000</td>\n",
              "      <td>1.000000</td>\n",
              "    </tr>\n",
              "    <tr>\n",
              "      <th>max</th>\n",
              "      <td>99999.000000</td>\n",
              "      <td>23713.000000</td>\n",
              "      <td>2.000000</td>\n",
              "      <td>250.000000</td>\n",
              "      <td>200.000000</td>\n",
              "      <td>16020.000000</td>\n",
              "      <td>11000.000000</td>\n",
              "      <td>3.000000</td>\n",
              "      <td>3.000000</td>\n",
              "      <td>1.000000</td>\n",
              "      <td>1.000000</td>\n",
              "      <td>1.000000</td>\n",
              "      <td>1.000000</td>\n",
              "    </tr>\n",
              "  </tbody>\n",
              "</table>\n",
              "</div>"
            ],
            "text/plain": [
              "                 id           age  ...        active        cardio\n",
              "count  70000.000000  70000.000000  ...  70000.000000  70000.000000\n",
              "mean   49972.419900  19468.865814  ...      0.803729      0.499700\n",
              "std    28851.302323   2467.251667  ...      0.397179      0.500003\n",
              "min        0.000000  10798.000000  ...      0.000000      0.000000\n",
              "25%    25006.750000  17664.000000  ...      1.000000      0.000000\n",
              "50%    50001.500000  19703.000000  ...      1.000000      0.000000\n",
              "75%    74889.250000  21327.000000  ...      1.000000      1.000000\n",
              "max    99999.000000  23713.000000  ...      1.000000      1.000000\n",
              "\n",
              "[8 rows x 13 columns]"
            ]
          },
          "metadata": {
            "tags": []
          },
          "execution_count": 7
        }
      ]
    },
    {
      "cell_type": "code",
      "metadata": {
        "id": "yfFy8nscI8Mw",
        "colab_type": "code",
        "colab": {
          "base_uri": "https://localhost:8080/",
          "height": 357
        },
        "outputId": "00d10310-d49a-431e-f076-303b3efa03e8"
      },
      "source": [
        "#We need to know information about data and datatype.\n",
        "\n",
        "data.info()"
      ],
      "execution_count": 8,
      "outputs": [
        {
          "output_type": "stream",
          "text": [
            "<class 'pandas.core.frame.DataFrame'>\n",
            "RangeIndex: 70000 entries, 0 to 69999\n",
            "Data columns (total 13 columns):\n",
            " #   Column       Non-Null Count  Dtype  \n",
            "---  ------       --------------  -----  \n",
            " 0   id           70000 non-null  int64  \n",
            " 1   age          70000 non-null  int64  \n",
            " 2   gender       70000 non-null  int64  \n",
            " 3   height       70000 non-null  int64  \n",
            " 4   weight       70000 non-null  float64\n",
            " 5   ap_hi        70000 non-null  int64  \n",
            " 6   ap_lo        70000 non-null  int64  \n",
            " 7   cholesterol  70000 non-null  int64  \n",
            " 8   gluc         70000 non-null  int64  \n",
            " 9   smoke        70000 non-null  int64  \n",
            " 10  alco         70000 non-null  int64  \n",
            " 11  active       70000 non-null  int64  \n",
            " 12  cardio       70000 non-null  int64  \n",
            "dtypes: float64(1), int64(12)\n",
            "memory usage: 6.9 MB\n"
          ],
          "name": "stdout"
        }
      ]
    },
    {
      "cell_type": "code",
      "metadata": {
        "id": "lC73KnL3JAkN",
        "colab_type": "code",
        "colab": {
          "base_uri": "https://localhost:8080/",
          "height": 34
        },
        "outputId": "acc2a751-781b-4a92-c12f-3eef92820851"
      },
      "source": [
        "#We will check the shape of the data\n",
        "\n",
        "data.shape"
      ],
      "execution_count": 9,
      "outputs": [
        {
          "output_type": "execute_result",
          "data": {
            "text/plain": [
              "(70000, 13)"
            ]
          },
          "metadata": {
            "tags": []
          },
          "execution_count": 9
        }
      ]
    },
    {
      "cell_type": "code",
      "metadata": {
        "id": "HkFRCfk7JEDo",
        "colab_type": "code",
        "colab": {
          "base_uri": "https://localhost:8080/",
          "height": 255
        },
        "outputId": "8acdfc51-347b-4685-d051-50f6c3481080"
      },
      "source": [
        "#Check if null values in the columns.\n",
        "\n",
        "data.isnull().sum()"
      ],
      "execution_count": 10,
      "outputs": [
        {
          "output_type": "execute_result",
          "data": {
            "text/plain": [
              "id             0\n",
              "age            0\n",
              "gender         0\n",
              "height         0\n",
              "weight         0\n",
              "ap_hi          0\n",
              "ap_lo          0\n",
              "cholesterol    0\n",
              "gluc           0\n",
              "smoke          0\n",
              "alco           0\n",
              "active         0\n",
              "cardio         0\n",
              "dtype: int64"
            ]
          },
          "metadata": {
            "tags": []
          },
          "execution_count": 10
        }
      ]
    },
    {
      "cell_type": "code",
      "metadata": {
        "id": "-M3E_VqdJHjc",
        "colab_type": "code",
        "colab": {}
      },
      "source": [
        "#As age feature is given in number of days so what we do is convert it into years\n",
        "\n",
        "\n",
        "data['age']=data['age']/365"
      ],
      "execution_count": 0,
      "outputs": []
    },
    {
      "cell_type": "code",
      "metadata": {
        "id": "tyvqmFlvJLcQ",
        "colab_type": "code",
        "colab": {
          "base_uri": "https://localhost:8080/",
          "height": 204
        },
        "outputId": "871af3c0-b1f2-4b1b-d91c-8878e2d9b3f5"
      },
      "source": [
        "data.head()"
      ],
      "execution_count": 12,
      "outputs": [
        {
          "output_type": "execute_result",
          "data": {
            "text/html": [
              "<div>\n",
              "<style scoped>\n",
              "    .dataframe tbody tr th:only-of-type {\n",
              "        vertical-align: middle;\n",
              "    }\n",
              "\n",
              "    .dataframe tbody tr th {\n",
              "        vertical-align: top;\n",
              "    }\n",
              "\n",
              "    .dataframe thead th {\n",
              "        text-align: right;\n",
              "    }\n",
              "</style>\n",
              "<table border=\"1\" class=\"dataframe\">\n",
              "  <thead>\n",
              "    <tr style=\"text-align: right;\">\n",
              "      <th></th>\n",
              "      <th>id</th>\n",
              "      <th>age</th>\n",
              "      <th>gender</th>\n",
              "      <th>height</th>\n",
              "      <th>weight</th>\n",
              "      <th>ap_hi</th>\n",
              "      <th>ap_lo</th>\n",
              "      <th>cholesterol</th>\n",
              "      <th>gluc</th>\n",
              "      <th>smoke</th>\n",
              "      <th>alco</th>\n",
              "      <th>active</th>\n",
              "      <th>cardio</th>\n",
              "    </tr>\n",
              "  </thead>\n",
              "  <tbody>\n",
              "    <tr>\n",
              "      <th>0</th>\n",
              "      <td>0</td>\n",
              "      <td>50.391781</td>\n",
              "      <td>2</td>\n",
              "      <td>168</td>\n",
              "      <td>62.0</td>\n",
              "      <td>110</td>\n",
              "      <td>80</td>\n",
              "      <td>1</td>\n",
              "      <td>1</td>\n",
              "      <td>0</td>\n",
              "      <td>0</td>\n",
              "      <td>1</td>\n",
              "      <td>0</td>\n",
              "    </tr>\n",
              "    <tr>\n",
              "      <th>1</th>\n",
              "      <td>1</td>\n",
              "      <td>55.419178</td>\n",
              "      <td>1</td>\n",
              "      <td>156</td>\n",
              "      <td>85.0</td>\n",
              "      <td>140</td>\n",
              "      <td>90</td>\n",
              "      <td>3</td>\n",
              "      <td>1</td>\n",
              "      <td>0</td>\n",
              "      <td>0</td>\n",
              "      <td>1</td>\n",
              "      <td>1</td>\n",
              "    </tr>\n",
              "    <tr>\n",
              "      <th>2</th>\n",
              "      <td>2</td>\n",
              "      <td>51.663014</td>\n",
              "      <td>1</td>\n",
              "      <td>165</td>\n",
              "      <td>64.0</td>\n",
              "      <td>130</td>\n",
              "      <td>70</td>\n",
              "      <td>3</td>\n",
              "      <td>1</td>\n",
              "      <td>0</td>\n",
              "      <td>0</td>\n",
              "      <td>0</td>\n",
              "      <td>1</td>\n",
              "    </tr>\n",
              "    <tr>\n",
              "      <th>3</th>\n",
              "      <td>3</td>\n",
              "      <td>48.282192</td>\n",
              "      <td>2</td>\n",
              "      <td>169</td>\n",
              "      <td>82.0</td>\n",
              "      <td>150</td>\n",
              "      <td>100</td>\n",
              "      <td>1</td>\n",
              "      <td>1</td>\n",
              "      <td>0</td>\n",
              "      <td>0</td>\n",
              "      <td>1</td>\n",
              "      <td>1</td>\n",
              "    </tr>\n",
              "    <tr>\n",
              "      <th>4</th>\n",
              "      <td>4</td>\n",
              "      <td>47.873973</td>\n",
              "      <td>1</td>\n",
              "      <td>156</td>\n",
              "      <td>56.0</td>\n",
              "      <td>100</td>\n",
              "      <td>60</td>\n",
              "      <td>1</td>\n",
              "      <td>1</td>\n",
              "      <td>0</td>\n",
              "      <td>0</td>\n",
              "      <td>0</td>\n",
              "      <td>0</td>\n",
              "    </tr>\n",
              "  </tbody>\n",
              "</table>\n",
              "</div>"
            ],
            "text/plain": [
              "   id        age  gender  height  weight  ...  gluc  smoke  alco  active  cardio\n",
              "0   0  50.391781       2     168    62.0  ...     1      0     0       1       0\n",
              "1   1  55.419178       1     156    85.0  ...     1      0     0       1       1\n",
              "2   2  51.663014       1     165    64.0  ...     1      0     0       0       1\n",
              "3   3  48.282192       2     169    82.0  ...     1      0     0       1       1\n",
              "4   4  47.873973       1     156    56.0  ...     1      0     0       0       0\n",
              "\n",
              "[5 rows x 13 columns]"
            ]
          },
          "metadata": {
            "tags": []
          },
          "execution_count": 12
        }
      ]
    },
    {
      "cell_type": "code",
      "metadata": {
        "id": "DCnE4CB8JOqN",
        "colab_type": "code",
        "colab": {}
      },
      "source": [
        "#Lets first drop the column id as its not important\n",
        "\n",
        "data=data.drop('id',axis=1)"
      ],
      "execution_count": 0,
      "outputs": []
    },
    {
      "cell_type": "code",
      "metadata": {
        "id": "vcJNB2azJUhY",
        "colab_type": "code",
        "colab": {
          "base_uri": "https://localhost:8080/",
          "height": 204
        },
        "outputId": "acc01bc3-6212-4742-eed9-207b51bb0685"
      },
      "source": [
        "#Lets Check whether the change is made\n",
        "\n",
        "data.head()"
      ],
      "execution_count": 14,
      "outputs": [
        {
          "output_type": "execute_result",
          "data": {
            "text/html": [
              "<div>\n",
              "<style scoped>\n",
              "    .dataframe tbody tr th:only-of-type {\n",
              "        vertical-align: middle;\n",
              "    }\n",
              "\n",
              "    .dataframe tbody tr th {\n",
              "        vertical-align: top;\n",
              "    }\n",
              "\n",
              "    .dataframe thead th {\n",
              "        text-align: right;\n",
              "    }\n",
              "</style>\n",
              "<table border=\"1\" class=\"dataframe\">\n",
              "  <thead>\n",
              "    <tr style=\"text-align: right;\">\n",
              "      <th></th>\n",
              "      <th>age</th>\n",
              "      <th>gender</th>\n",
              "      <th>height</th>\n",
              "      <th>weight</th>\n",
              "      <th>ap_hi</th>\n",
              "      <th>ap_lo</th>\n",
              "      <th>cholesterol</th>\n",
              "      <th>gluc</th>\n",
              "      <th>smoke</th>\n",
              "      <th>alco</th>\n",
              "      <th>active</th>\n",
              "      <th>cardio</th>\n",
              "    </tr>\n",
              "  </thead>\n",
              "  <tbody>\n",
              "    <tr>\n",
              "      <th>0</th>\n",
              "      <td>50.391781</td>\n",
              "      <td>2</td>\n",
              "      <td>168</td>\n",
              "      <td>62.0</td>\n",
              "      <td>110</td>\n",
              "      <td>80</td>\n",
              "      <td>1</td>\n",
              "      <td>1</td>\n",
              "      <td>0</td>\n",
              "      <td>0</td>\n",
              "      <td>1</td>\n",
              "      <td>0</td>\n",
              "    </tr>\n",
              "    <tr>\n",
              "      <th>1</th>\n",
              "      <td>55.419178</td>\n",
              "      <td>1</td>\n",
              "      <td>156</td>\n",
              "      <td>85.0</td>\n",
              "      <td>140</td>\n",
              "      <td>90</td>\n",
              "      <td>3</td>\n",
              "      <td>1</td>\n",
              "      <td>0</td>\n",
              "      <td>0</td>\n",
              "      <td>1</td>\n",
              "      <td>1</td>\n",
              "    </tr>\n",
              "    <tr>\n",
              "      <th>2</th>\n",
              "      <td>51.663014</td>\n",
              "      <td>1</td>\n",
              "      <td>165</td>\n",
              "      <td>64.0</td>\n",
              "      <td>130</td>\n",
              "      <td>70</td>\n",
              "      <td>3</td>\n",
              "      <td>1</td>\n",
              "      <td>0</td>\n",
              "      <td>0</td>\n",
              "      <td>0</td>\n",
              "      <td>1</td>\n",
              "    </tr>\n",
              "    <tr>\n",
              "      <th>3</th>\n",
              "      <td>48.282192</td>\n",
              "      <td>2</td>\n",
              "      <td>169</td>\n",
              "      <td>82.0</td>\n",
              "      <td>150</td>\n",
              "      <td>100</td>\n",
              "      <td>1</td>\n",
              "      <td>1</td>\n",
              "      <td>0</td>\n",
              "      <td>0</td>\n",
              "      <td>1</td>\n",
              "      <td>1</td>\n",
              "    </tr>\n",
              "    <tr>\n",
              "      <th>4</th>\n",
              "      <td>47.873973</td>\n",
              "      <td>1</td>\n",
              "      <td>156</td>\n",
              "      <td>56.0</td>\n",
              "      <td>100</td>\n",
              "      <td>60</td>\n",
              "      <td>1</td>\n",
              "      <td>1</td>\n",
              "      <td>0</td>\n",
              "      <td>0</td>\n",
              "      <td>0</td>\n",
              "      <td>0</td>\n",
              "    </tr>\n",
              "  </tbody>\n",
              "</table>\n",
              "</div>"
            ],
            "text/plain": [
              "         age  gender  height  weight  ap_hi  ...  gluc  smoke  alco  active  cardio\n",
              "0  50.391781       2     168    62.0    110  ...     1      0     0       1       0\n",
              "1  55.419178       1     156    85.0    140  ...     1      0     0       1       1\n",
              "2  51.663014       1     165    64.0    130  ...     1      0     0       0       1\n",
              "3  48.282192       2     169    82.0    150  ...     1      0     0       1       1\n",
              "4  47.873973       1     156    56.0    100  ...     1      0     0       0       0\n",
              "\n",
              "[5 rows x 12 columns]"
            ]
          },
          "metadata": {
            "tags": []
          },
          "execution_count": 14
        }
      ]
    },
    {
      "cell_type": "code",
      "metadata": {
        "id": "Hz2_ggpEJXXT",
        "colab_type": "code",
        "colab": {}
      },
      "source": [
        "#Now as the features are not understood i will replace them with the original name\n",
        "\n",
        "data.rename(columns={'ap_hi': 'systolic', 'ap_lo': 'diastolic', 'gluc': 'glucose', 'alco': 'alcohol', 'cardio': 'cardiovascular disease'}, inplace=True)"
      ],
      "execution_count": 0,
      "outputs": []
    },
    {
      "cell_type": "code",
      "metadata": {
        "id": "f7QL8qfKJcXm",
        "colab_type": "code",
        "colab": {
          "base_uri": "https://localhost:8080/",
          "height": 221
        },
        "outputId": "340b6de9-3ae5-43ed-8085-56dde2bef609"
      },
      "source": [
        "data.head()"
      ],
      "execution_count": 16,
      "outputs": [
        {
          "output_type": "execute_result",
          "data": {
            "text/html": [
              "<div>\n",
              "<style scoped>\n",
              "    .dataframe tbody tr th:only-of-type {\n",
              "        vertical-align: middle;\n",
              "    }\n",
              "\n",
              "    .dataframe tbody tr th {\n",
              "        vertical-align: top;\n",
              "    }\n",
              "\n",
              "    .dataframe thead th {\n",
              "        text-align: right;\n",
              "    }\n",
              "</style>\n",
              "<table border=\"1\" class=\"dataframe\">\n",
              "  <thead>\n",
              "    <tr style=\"text-align: right;\">\n",
              "      <th></th>\n",
              "      <th>age</th>\n",
              "      <th>gender</th>\n",
              "      <th>height</th>\n",
              "      <th>weight</th>\n",
              "      <th>systolic</th>\n",
              "      <th>diastolic</th>\n",
              "      <th>cholesterol</th>\n",
              "      <th>glucose</th>\n",
              "      <th>smoke</th>\n",
              "      <th>alcohol</th>\n",
              "      <th>active</th>\n",
              "      <th>cardiovascular disease</th>\n",
              "    </tr>\n",
              "  </thead>\n",
              "  <tbody>\n",
              "    <tr>\n",
              "      <th>0</th>\n",
              "      <td>50.391781</td>\n",
              "      <td>2</td>\n",
              "      <td>168</td>\n",
              "      <td>62.0</td>\n",
              "      <td>110</td>\n",
              "      <td>80</td>\n",
              "      <td>1</td>\n",
              "      <td>1</td>\n",
              "      <td>0</td>\n",
              "      <td>0</td>\n",
              "      <td>1</td>\n",
              "      <td>0</td>\n",
              "    </tr>\n",
              "    <tr>\n",
              "      <th>1</th>\n",
              "      <td>55.419178</td>\n",
              "      <td>1</td>\n",
              "      <td>156</td>\n",
              "      <td>85.0</td>\n",
              "      <td>140</td>\n",
              "      <td>90</td>\n",
              "      <td>3</td>\n",
              "      <td>1</td>\n",
              "      <td>0</td>\n",
              "      <td>0</td>\n",
              "      <td>1</td>\n",
              "      <td>1</td>\n",
              "    </tr>\n",
              "    <tr>\n",
              "      <th>2</th>\n",
              "      <td>51.663014</td>\n",
              "      <td>1</td>\n",
              "      <td>165</td>\n",
              "      <td>64.0</td>\n",
              "      <td>130</td>\n",
              "      <td>70</td>\n",
              "      <td>3</td>\n",
              "      <td>1</td>\n",
              "      <td>0</td>\n",
              "      <td>0</td>\n",
              "      <td>0</td>\n",
              "      <td>1</td>\n",
              "    </tr>\n",
              "    <tr>\n",
              "      <th>3</th>\n",
              "      <td>48.282192</td>\n",
              "      <td>2</td>\n",
              "      <td>169</td>\n",
              "      <td>82.0</td>\n",
              "      <td>150</td>\n",
              "      <td>100</td>\n",
              "      <td>1</td>\n",
              "      <td>1</td>\n",
              "      <td>0</td>\n",
              "      <td>0</td>\n",
              "      <td>1</td>\n",
              "      <td>1</td>\n",
              "    </tr>\n",
              "    <tr>\n",
              "      <th>4</th>\n",
              "      <td>47.873973</td>\n",
              "      <td>1</td>\n",
              "      <td>156</td>\n",
              "      <td>56.0</td>\n",
              "      <td>100</td>\n",
              "      <td>60</td>\n",
              "      <td>1</td>\n",
              "      <td>1</td>\n",
              "      <td>0</td>\n",
              "      <td>0</td>\n",
              "      <td>0</td>\n",
              "      <td>0</td>\n",
              "    </tr>\n",
              "  </tbody>\n",
              "</table>\n",
              "</div>"
            ],
            "text/plain": [
              "         age  gender  height  ...  alcohol  active  cardiovascular disease\n",
              "0  50.391781       2     168  ...        0       1                       0\n",
              "1  55.419178       1     156  ...        0       1                       1\n",
              "2  51.663014       1     165  ...        0       0                       1\n",
              "3  48.282192       2     169  ...        0       1                       1\n",
              "4  47.873973       1     156  ...        0       0                       0\n",
              "\n",
              "[5 rows x 12 columns]"
            ]
          },
          "metadata": {
            "tags": []
          },
          "execution_count": 16
        }
      ]
    },
    {
      "cell_type": "code",
      "metadata": {
        "id": "FDt0NWCiJfqW",
        "colab_type": "code",
        "colab": {}
      },
      "source": [
        "# Now the we have to predict cardiovascular disease so lets rename this column and set it as target\n",
        "\n",
        "data.rename(columns={'cardiovascular disease': 'target'},inplace='True')"
      ],
      "execution_count": 0,
      "outputs": []
    },
    {
      "cell_type": "code",
      "metadata": {
        "id": "FYYBSapMJj7B",
        "colab_type": "code",
        "colab": {
          "base_uri": "https://localhost:8080/",
          "height": 34
        },
        "outputId": "5da04359-0aa2-464c-8183-d02fa7d894c7"
      },
      "source": [
        "# Check Duplicate entries\n",
        "data.duplicated().sum()"
      ],
      "execution_count": 18,
      "outputs": [
        {
          "output_type": "execute_result",
          "data": {
            "text/plain": [
              "24"
            ]
          },
          "metadata": {
            "tags": []
          },
          "execution_count": 18
        }
      ]
    },
    {
      "cell_type": "code",
      "metadata": {
        "id": "gWU6dghHJneN",
        "colab_type": "code",
        "colab": {
          "base_uri": "https://localhost:8080/",
          "height": 793
        },
        "outputId": "11ce51d1-0573-4937-9b3a-4ed7834bf188"
      },
      "source": [
        "data[data.duplicated()]"
      ],
      "execution_count": 19,
      "outputs": [
        {
          "output_type": "execute_result",
          "data": {
            "text/html": [
              "<div>\n",
              "<style scoped>\n",
              "    .dataframe tbody tr th:only-of-type {\n",
              "        vertical-align: middle;\n",
              "    }\n",
              "\n",
              "    .dataframe tbody tr th {\n",
              "        vertical-align: top;\n",
              "    }\n",
              "\n",
              "    .dataframe thead th {\n",
              "        text-align: right;\n",
              "    }\n",
              "</style>\n",
              "<table border=\"1\" class=\"dataframe\">\n",
              "  <thead>\n",
              "    <tr style=\"text-align: right;\">\n",
              "      <th></th>\n",
              "      <th>age</th>\n",
              "      <th>gender</th>\n",
              "      <th>height</th>\n",
              "      <th>weight</th>\n",
              "      <th>systolic</th>\n",
              "      <th>diastolic</th>\n",
              "      <th>cholesterol</th>\n",
              "      <th>glucose</th>\n",
              "      <th>smoke</th>\n",
              "      <th>alcohol</th>\n",
              "      <th>active</th>\n",
              "      <th>target</th>\n",
              "    </tr>\n",
              "  </thead>\n",
              "  <tbody>\n",
              "    <tr>\n",
              "      <th>10562</th>\n",
              "      <td>56.150685</td>\n",
              "      <td>1</td>\n",
              "      <td>165</td>\n",
              "      <td>70.0</td>\n",
              "      <td>120</td>\n",
              "      <td>80</td>\n",
              "      <td>1</td>\n",
              "      <td>1</td>\n",
              "      <td>0</td>\n",
              "      <td>0</td>\n",
              "      <td>1</td>\n",
              "      <td>0</td>\n",
              "    </tr>\n",
              "    <tr>\n",
              "      <th>21784</th>\n",
              "      <td>46.008219</td>\n",
              "      <td>1</td>\n",
              "      <td>165</td>\n",
              "      <td>68.0</td>\n",
              "      <td>120</td>\n",
              "      <td>80</td>\n",
              "      <td>1</td>\n",
              "      <td>1</td>\n",
              "      <td>0</td>\n",
              "      <td>0</td>\n",
              "      <td>1</td>\n",
              "      <td>0</td>\n",
              "    </tr>\n",
              "    <tr>\n",
              "      <th>38505</th>\n",
              "      <td>52.021918</td>\n",
              "      <td>1</td>\n",
              "      <td>164</td>\n",
              "      <td>65.0</td>\n",
              "      <td>120</td>\n",
              "      <td>80</td>\n",
              "      <td>1</td>\n",
              "      <td>1</td>\n",
              "      <td>0</td>\n",
              "      <td>0</td>\n",
              "      <td>1</td>\n",
              "      <td>0</td>\n",
              "    </tr>\n",
              "    <tr>\n",
              "      <th>40365</th>\n",
              "      <td>39.868493</td>\n",
              "      <td>1</td>\n",
              "      <td>158</td>\n",
              "      <td>64.0</td>\n",
              "      <td>120</td>\n",
              "      <td>80</td>\n",
              "      <td>1</td>\n",
              "      <td>1</td>\n",
              "      <td>0</td>\n",
              "      <td>0</td>\n",
              "      <td>1</td>\n",
              "      <td>0</td>\n",
              "    </tr>\n",
              "    <tr>\n",
              "      <th>42450</th>\n",
              "      <td>50.282192</td>\n",
              "      <td>1</td>\n",
              "      <td>169</td>\n",
              "      <td>67.0</td>\n",
              "      <td>120</td>\n",
              "      <td>80</td>\n",
              "      <td>1</td>\n",
              "      <td>1</td>\n",
              "      <td>0</td>\n",
              "      <td>0</td>\n",
              "      <td>1</td>\n",
              "      <td>0</td>\n",
              "    </tr>\n",
              "    <tr>\n",
              "      <th>44653</th>\n",
              "      <td>46.402740</td>\n",
              "      <td>2</td>\n",
              "      <td>170</td>\n",
              "      <td>70.0</td>\n",
              "      <td>120</td>\n",
              "      <td>80</td>\n",
              "      <td>1</td>\n",
              "      <td>1</td>\n",
              "      <td>0</td>\n",
              "      <td>0</td>\n",
              "      <td>0</td>\n",
              "      <td>0</td>\n",
              "    </tr>\n",
              "    <tr>\n",
              "      <th>45125</th>\n",
              "      <td>58.301370</td>\n",
              "      <td>1</td>\n",
              "      <td>165</td>\n",
              "      <td>65.0</td>\n",
              "      <td>120</td>\n",
              "      <td>80</td>\n",
              "      <td>1</td>\n",
              "      <td>1</td>\n",
              "      <td>0</td>\n",
              "      <td>0</td>\n",
              "      <td>1</td>\n",
              "      <td>0</td>\n",
              "    </tr>\n",
              "    <tr>\n",
              "      <th>45748</th>\n",
              "      <td>60.484932</td>\n",
              "      <td>1</td>\n",
              "      <td>175</td>\n",
              "      <td>69.0</td>\n",
              "      <td>120</td>\n",
              "      <td>80</td>\n",
              "      <td>1</td>\n",
              "      <td>1</td>\n",
              "      <td>0</td>\n",
              "      <td>0</td>\n",
              "      <td>1</td>\n",
              "      <td>1</td>\n",
              "    </tr>\n",
              "    <tr>\n",
              "      <th>45810</th>\n",
              "      <td>58.164384</td>\n",
              "      <td>1</td>\n",
              "      <td>164</td>\n",
              "      <td>62.0</td>\n",
              "      <td>120</td>\n",
              "      <td>80</td>\n",
              "      <td>1</td>\n",
              "      <td>1</td>\n",
              "      <td>0</td>\n",
              "      <td>0</td>\n",
              "      <td>1</td>\n",
              "      <td>0</td>\n",
              "    </tr>\n",
              "    <tr>\n",
              "      <th>48917</th>\n",
              "      <td>60.123288</td>\n",
              "      <td>1</td>\n",
              "      <td>165</td>\n",
              "      <td>60.0</td>\n",
              "      <td>120</td>\n",
              "      <td>80</td>\n",
              "      <td>1</td>\n",
              "      <td>1</td>\n",
              "      <td>0</td>\n",
              "      <td>0</td>\n",
              "      <td>1</td>\n",
              "      <td>0</td>\n",
              "    </tr>\n",
              "    <tr>\n",
              "      <th>50432</th>\n",
              "      <td>47.926027</td>\n",
              "      <td>2</td>\n",
              "      <td>169</td>\n",
              "      <td>74.0</td>\n",
              "      <td>120</td>\n",
              "      <td>80</td>\n",
              "      <td>1</td>\n",
              "      <td>1</td>\n",
              "      <td>0</td>\n",
              "      <td>0</td>\n",
              "      <td>1</td>\n",
              "      <td>1</td>\n",
              "    </tr>\n",
              "    <tr>\n",
              "      <th>52552</th>\n",
              "      <td>60.117808</td>\n",
              "      <td>1</td>\n",
              "      <td>165</td>\n",
              "      <td>65.0</td>\n",
              "      <td>120</td>\n",
              "      <td>80</td>\n",
              "      <td>1</td>\n",
              "      <td>1</td>\n",
              "      <td>0</td>\n",
              "      <td>0</td>\n",
              "      <td>1</td>\n",
              "      <td>1</td>\n",
              "    </tr>\n",
              "    <tr>\n",
              "      <th>56643</th>\n",
              "      <td>48.041096</td>\n",
              "      <td>2</td>\n",
              "      <td>165</td>\n",
              "      <td>65.0</td>\n",
              "      <td>120</td>\n",
              "      <td>80</td>\n",
              "      <td>1</td>\n",
              "      <td>1</td>\n",
              "      <td>0</td>\n",
              "      <td>0</td>\n",
              "      <td>1</td>\n",
              "      <td>0</td>\n",
              "    </tr>\n",
              "    <tr>\n",
              "      <th>56906</th>\n",
              "      <td>55.597260</td>\n",
              "      <td>1</td>\n",
              "      <td>162</td>\n",
              "      <td>70.0</td>\n",
              "      <td>110</td>\n",
              "      <td>70</td>\n",
              "      <td>1</td>\n",
              "      <td>1</td>\n",
              "      <td>0</td>\n",
              "      <td>0</td>\n",
              "      <td>1</td>\n",
              "      <td>0</td>\n",
              "    </tr>\n",
              "    <tr>\n",
              "      <th>57946</th>\n",
              "      <td>51.931507</td>\n",
              "      <td>1</td>\n",
              "      <td>165</td>\n",
              "      <td>75.0</td>\n",
              "      <td>120</td>\n",
              "      <td>80</td>\n",
              "      <td>1</td>\n",
              "      <td>1</td>\n",
              "      <td>0</td>\n",
              "      <td>0</td>\n",
              "      <td>1</td>\n",
              "      <td>1</td>\n",
              "    </tr>\n",
              "    <tr>\n",
              "      <th>58730</th>\n",
              "      <td>54.405479</td>\n",
              "      <td>1</td>\n",
              "      <td>165</td>\n",
              "      <td>68.0</td>\n",
              "      <td>120</td>\n",
              "      <td>80</td>\n",
              "      <td>1</td>\n",
              "      <td>1</td>\n",
              "      <td>0</td>\n",
              "      <td>0</td>\n",
              "      <td>1</td>\n",
              "      <td>0</td>\n",
              "    </tr>\n",
              "    <tr>\n",
              "      <th>60453</th>\n",
              "      <td>56.208219</td>\n",
              "      <td>1</td>\n",
              "      <td>164</td>\n",
              "      <td>66.0</td>\n",
              "      <td>120</td>\n",
              "      <td>80</td>\n",
              "      <td>1</td>\n",
              "      <td>1</td>\n",
              "      <td>0</td>\n",
              "      <td>0</td>\n",
              "      <td>0</td>\n",
              "      <td>0</td>\n",
              "    </tr>\n",
              "    <tr>\n",
              "      <th>60474</th>\n",
              "      <td>46.041096</td>\n",
              "      <td>1</td>\n",
              "      <td>157</td>\n",
              "      <td>67.0</td>\n",
              "      <td>120</td>\n",
              "      <td>80</td>\n",
              "      <td>1</td>\n",
              "      <td>1</td>\n",
              "      <td>0</td>\n",
              "      <td>0</td>\n",
              "      <td>1</td>\n",
              "      <td>0</td>\n",
              "    </tr>\n",
              "    <tr>\n",
              "      <th>62318</th>\n",
              "      <td>51.997260</td>\n",
              "      <td>1</td>\n",
              "      <td>165</td>\n",
              "      <td>65.0</td>\n",
              "      <td>120</td>\n",
              "      <td>80</td>\n",
              "      <td>1</td>\n",
              "      <td>1</td>\n",
              "      <td>0</td>\n",
              "      <td>0</td>\n",
              "      <td>0</td>\n",
              "      <td>0</td>\n",
              "    </tr>\n",
              "    <tr>\n",
              "      <th>64169</th>\n",
              "      <td>44.273973</td>\n",
              "      <td>1</td>\n",
              "      <td>168</td>\n",
              "      <td>65.0</td>\n",
              "      <td>120</td>\n",
              "      <td>80</td>\n",
              "      <td>1</td>\n",
              "      <td>1</td>\n",
              "      <td>0</td>\n",
              "      <td>0</td>\n",
              "      <td>1</td>\n",
              "      <td>1</td>\n",
              "    </tr>\n",
              "    <tr>\n",
              "      <th>65079</th>\n",
              "      <td>49.890411</td>\n",
              "      <td>1</td>\n",
              "      <td>160</td>\n",
              "      <td>60.0</td>\n",
              "      <td>120</td>\n",
              "      <td>80</td>\n",
              "      <td>1</td>\n",
              "      <td>1</td>\n",
              "      <td>0</td>\n",
              "      <td>0</td>\n",
              "      <td>1</td>\n",
              "      <td>0</td>\n",
              "    </tr>\n",
              "    <tr>\n",
              "      <th>65622</th>\n",
              "      <td>59.665753</td>\n",
              "      <td>1</td>\n",
              "      <td>160</td>\n",
              "      <td>58.0</td>\n",
              "      <td>120</td>\n",
              "      <td>80</td>\n",
              "      <td>1</td>\n",
              "      <td>1</td>\n",
              "      <td>0</td>\n",
              "      <td>0</td>\n",
              "      <td>1</td>\n",
              "      <td>0</td>\n",
              "    </tr>\n",
              "    <tr>\n",
              "      <th>66190</th>\n",
              "      <td>52.216438</td>\n",
              "      <td>1</td>\n",
              "      <td>165</td>\n",
              "      <td>65.0</td>\n",
              "      <td>120</td>\n",
              "      <td>80</td>\n",
              "      <td>1</td>\n",
              "      <td>1</td>\n",
              "      <td>0</td>\n",
              "      <td>0</td>\n",
              "      <td>1</td>\n",
              "      <td>1</td>\n",
              "    </tr>\n",
              "    <tr>\n",
              "      <th>68281</th>\n",
              "      <td>57.860274</td>\n",
              "      <td>1</td>\n",
              "      <td>160</td>\n",
              "      <td>60.0</td>\n",
              "      <td>120</td>\n",
              "      <td>80</td>\n",
              "      <td>1</td>\n",
              "      <td>1</td>\n",
              "      <td>0</td>\n",
              "      <td>0</td>\n",
              "      <td>0</td>\n",
              "      <td>1</td>\n",
              "    </tr>\n",
              "  </tbody>\n",
              "</table>\n",
              "</div>"
            ],
            "text/plain": [
              "             age  gender  height  weight  ...  smoke  alcohol  active  target\n",
              "10562  56.150685       1     165    70.0  ...      0        0       1       0\n",
              "21784  46.008219       1     165    68.0  ...      0        0       1       0\n",
              "38505  52.021918       1     164    65.0  ...      0        0       1       0\n",
              "40365  39.868493       1     158    64.0  ...      0        0       1       0\n",
              "42450  50.282192       1     169    67.0  ...      0        0       1       0\n",
              "44653  46.402740       2     170    70.0  ...      0        0       0       0\n",
              "45125  58.301370       1     165    65.0  ...      0        0       1       0\n",
              "45748  60.484932       1     175    69.0  ...      0        0       1       1\n",
              "45810  58.164384       1     164    62.0  ...      0        0       1       0\n",
              "48917  60.123288       1     165    60.0  ...      0        0       1       0\n",
              "50432  47.926027       2     169    74.0  ...      0        0       1       1\n",
              "52552  60.117808       1     165    65.0  ...      0        0       1       1\n",
              "56643  48.041096       2     165    65.0  ...      0        0       1       0\n",
              "56906  55.597260       1     162    70.0  ...      0        0       1       0\n",
              "57946  51.931507       1     165    75.0  ...      0        0       1       1\n",
              "58730  54.405479       1     165    68.0  ...      0        0       1       0\n",
              "60453  56.208219       1     164    66.0  ...      0        0       0       0\n",
              "60474  46.041096       1     157    67.0  ...      0        0       1       0\n",
              "62318  51.997260       1     165    65.0  ...      0        0       0       0\n",
              "64169  44.273973       1     168    65.0  ...      0        0       1       1\n",
              "65079  49.890411       1     160    60.0  ...      0        0       1       0\n",
              "65622  59.665753       1     160    58.0  ...      0        0       1       0\n",
              "66190  52.216438       1     165    65.0  ...      0        0       1       1\n",
              "68281  57.860274       1     160    60.0  ...      0        0       0       1\n",
              "\n",
              "[24 rows x 12 columns]"
            ]
          },
          "metadata": {
            "tags": []
          },
          "execution_count": 19
        }
      ]
    },
    {
      "cell_type": "code",
      "metadata": {
        "id": "59dT90RLJqdF",
        "colab_type": "code",
        "colab": {}
      },
      "source": [
        "#Dropping these duplicate values\n",
        "\n",
        "data.drop_duplicates(inplace=True)"
      ],
      "execution_count": 0,
      "outputs": []
    },
    {
      "cell_type": "code",
      "metadata": {
        "id": "HQ2zvq4-JuZL",
        "colab_type": "code",
        "colab": {
          "base_uri": "https://localhost:8080/",
          "height": 317
        },
        "outputId": "4c17ebfb-694e-4f84-bc99-2bd34f3a9e8d"
      },
      "source": [
        "data.describe()"
      ],
      "execution_count": 21,
      "outputs": [
        {
          "output_type": "execute_result",
          "data": {
            "text/html": [
              "<div>\n",
              "<style scoped>\n",
              "    .dataframe tbody tr th:only-of-type {\n",
              "        vertical-align: middle;\n",
              "    }\n",
              "\n",
              "    .dataframe tbody tr th {\n",
              "        vertical-align: top;\n",
              "    }\n",
              "\n",
              "    .dataframe thead th {\n",
              "        text-align: right;\n",
              "    }\n",
              "</style>\n",
              "<table border=\"1\" class=\"dataframe\">\n",
              "  <thead>\n",
              "    <tr style=\"text-align: right;\">\n",
              "      <th></th>\n",
              "      <th>age</th>\n",
              "      <th>gender</th>\n",
              "      <th>height</th>\n",
              "      <th>weight</th>\n",
              "      <th>systolic</th>\n",
              "      <th>diastolic</th>\n",
              "      <th>cholesterol</th>\n",
              "      <th>glucose</th>\n",
              "      <th>smoke</th>\n",
              "      <th>alcohol</th>\n",
              "      <th>active</th>\n",
              "      <th>target</th>\n",
              "    </tr>\n",
              "  </thead>\n",
              "  <tbody>\n",
              "    <tr>\n",
              "      <th>count</th>\n",
              "      <td>69976.000000</td>\n",
              "      <td>69976.000000</td>\n",
              "      <td>69976.000000</td>\n",
              "      <td>69976.000000</td>\n",
              "      <td>69976.000000</td>\n",
              "      <td>69976.000000</td>\n",
              "      <td>69976.000000</td>\n",
              "      <td>69976.000000</td>\n",
              "      <td>69976.000000</td>\n",
              "      <td>69976.000000</td>\n",
              "      <td>69976.000000</td>\n",
              "      <td>69976.000000</td>\n",
              "    </tr>\n",
              "    <tr>\n",
              "      <th>mean</th>\n",
              "      <td>53.339589</td>\n",
              "      <td>1.349648</td>\n",
              "      <td>164.359152</td>\n",
              "      <td>74.208519</td>\n",
              "      <td>128.820453</td>\n",
              "      <td>96.636261</td>\n",
              "      <td>1.366997</td>\n",
              "      <td>1.226535</td>\n",
              "      <td>0.088159</td>\n",
              "      <td>0.053790</td>\n",
              "      <td>0.803718</td>\n",
              "      <td>0.499771</td>\n",
              "    </tr>\n",
              "    <tr>\n",
              "      <th>std</th>\n",
              "      <td>6.759930</td>\n",
              "      <td>0.476862</td>\n",
              "      <td>8.211218</td>\n",
              "      <td>14.397211</td>\n",
              "      <td>154.037729</td>\n",
              "      <td>188.504581</td>\n",
              "      <td>0.680333</td>\n",
              "      <td>0.572353</td>\n",
              "      <td>0.283528</td>\n",
              "      <td>0.225604</td>\n",
              "      <td>0.397187</td>\n",
              "      <td>0.500004</td>\n",
              "    </tr>\n",
              "    <tr>\n",
              "      <th>min</th>\n",
              "      <td>29.583562</td>\n",
              "      <td>1.000000</td>\n",
              "      <td>55.000000</td>\n",
              "      <td>10.000000</td>\n",
              "      <td>-150.000000</td>\n",
              "      <td>-70.000000</td>\n",
              "      <td>1.000000</td>\n",
              "      <td>1.000000</td>\n",
              "      <td>0.000000</td>\n",
              "      <td>0.000000</td>\n",
              "      <td>0.000000</td>\n",
              "      <td>0.000000</td>\n",
              "    </tr>\n",
              "    <tr>\n",
              "      <th>25%</th>\n",
              "      <td>48.394521</td>\n",
              "      <td>1.000000</td>\n",
              "      <td>159.000000</td>\n",
              "      <td>65.000000</td>\n",
              "      <td>120.000000</td>\n",
              "      <td>80.000000</td>\n",
              "      <td>1.000000</td>\n",
              "      <td>1.000000</td>\n",
              "      <td>0.000000</td>\n",
              "      <td>0.000000</td>\n",
              "      <td>1.000000</td>\n",
              "      <td>0.000000</td>\n",
              "    </tr>\n",
              "    <tr>\n",
              "      <th>50%</th>\n",
              "      <td>53.980822</td>\n",
              "      <td>1.000000</td>\n",
              "      <td>165.000000</td>\n",
              "      <td>72.000000</td>\n",
              "      <td>120.000000</td>\n",
              "      <td>80.000000</td>\n",
              "      <td>1.000000</td>\n",
              "      <td>1.000000</td>\n",
              "      <td>0.000000</td>\n",
              "      <td>0.000000</td>\n",
              "      <td>1.000000</td>\n",
              "      <td>0.000000</td>\n",
              "    </tr>\n",
              "    <tr>\n",
              "      <th>75%</th>\n",
              "      <td>58.430137</td>\n",
              "      <td>2.000000</td>\n",
              "      <td>170.000000</td>\n",
              "      <td>82.000000</td>\n",
              "      <td>140.000000</td>\n",
              "      <td>90.000000</td>\n",
              "      <td>2.000000</td>\n",
              "      <td>1.000000</td>\n",
              "      <td>0.000000</td>\n",
              "      <td>0.000000</td>\n",
              "      <td>1.000000</td>\n",
              "      <td>1.000000</td>\n",
              "    </tr>\n",
              "    <tr>\n",
              "      <th>max</th>\n",
              "      <td>64.967123</td>\n",
              "      <td>2.000000</td>\n",
              "      <td>250.000000</td>\n",
              "      <td>200.000000</td>\n",
              "      <td>16020.000000</td>\n",
              "      <td>11000.000000</td>\n",
              "      <td>3.000000</td>\n",
              "      <td>3.000000</td>\n",
              "      <td>1.000000</td>\n",
              "      <td>1.000000</td>\n",
              "      <td>1.000000</td>\n",
              "      <td>1.000000</td>\n",
              "    </tr>\n",
              "  </tbody>\n",
              "</table>\n",
              "</div>"
            ],
            "text/plain": [
              "                age        gender  ...        active        target\n",
              "count  69976.000000  69976.000000  ...  69976.000000  69976.000000\n",
              "mean      53.339589      1.349648  ...      0.803718      0.499771\n",
              "std        6.759930      0.476862  ...      0.397187      0.500004\n",
              "min       29.583562      1.000000  ...      0.000000      0.000000\n",
              "25%       48.394521      1.000000  ...      1.000000      0.000000\n",
              "50%       53.980822      1.000000  ...      1.000000      0.000000\n",
              "75%       58.430137      2.000000  ...      1.000000      1.000000\n",
              "max       64.967123      2.000000  ...      1.000000      1.000000\n",
              "\n",
              "[8 rows x 12 columns]"
            ]
          },
          "metadata": {
            "tags": []
          },
          "execution_count": 21
        }
      ]
    },
    {
      "cell_type": "code",
      "metadata": {
        "id": "R3rvJitSJyXW",
        "colab_type": "code",
        "colab": {}
      },
      "source": [
        "#The values for weights and heights at maximum are unlikely or outliers.\n",
        "#So remove weights and heights, that fall below 2.5% or above 97.5% of a given range.\n",
        "\n",
        "data.drop(data[(data['height'] > data['height'].quantile(0.975)) | (data['height'] < data['height'].quantile(0.025))].index,inplace=True)\n",
        "data.drop(data[(data['weight'] > data['weight'].quantile(0.975)) | (data['weight'] < data['weight'].quantile(0.025))].index,inplace=True)"
      ],
      "execution_count": 0,
      "outputs": []
    },
    {
      "cell_type": "code",
      "metadata": {
        "id": "t81oqeDWJ4jj",
        "colab_type": "code",
        "colab": {
          "base_uri": "https://localhost:8080/",
          "height": 317
        },
        "outputId": "c0d3451f-d57f-456e-b1b5-45c81f988c50"
      },
      "source": [
        "data.describe()"
      ],
      "execution_count": 23,
      "outputs": [
        {
          "output_type": "execute_result",
          "data": {
            "text/html": [
              "<div>\n",
              "<style scoped>\n",
              "    .dataframe tbody tr th:only-of-type {\n",
              "        vertical-align: middle;\n",
              "    }\n",
              "\n",
              "    .dataframe tbody tr th {\n",
              "        vertical-align: top;\n",
              "    }\n",
              "\n",
              "    .dataframe thead th {\n",
              "        text-align: right;\n",
              "    }\n",
              "</style>\n",
              "<table border=\"1\" class=\"dataframe\">\n",
              "  <thead>\n",
              "    <tr style=\"text-align: right;\">\n",
              "      <th></th>\n",
              "      <th>age</th>\n",
              "      <th>gender</th>\n",
              "      <th>height</th>\n",
              "      <th>weight</th>\n",
              "      <th>systolic</th>\n",
              "      <th>diastolic</th>\n",
              "      <th>cholesterol</th>\n",
              "      <th>glucose</th>\n",
              "      <th>smoke</th>\n",
              "      <th>alcohol</th>\n",
              "      <th>active</th>\n",
              "      <th>target</th>\n",
              "    </tr>\n",
              "  </thead>\n",
              "  <tbody>\n",
              "    <tr>\n",
              "      <th>count</th>\n",
              "      <td>63842.000000</td>\n",
              "      <td>63842.000000</td>\n",
              "      <td>63842.000000</td>\n",
              "      <td>63842.000000</td>\n",
              "      <td>63842.000000</td>\n",
              "      <td>63842.000000</td>\n",
              "      <td>63842.000000</td>\n",
              "      <td>63842.000000</td>\n",
              "      <td>63842.000000</td>\n",
              "      <td>63842.000000</td>\n",
              "      <td>63842.000000</td>\n",
              "      <td>63842.000000</td>\n",
              "    </tr>\n",
              "    <tr>\n",
              "      <th>mean</th>\n",
              "      <td>53.349959</td>\n",
              "      <td>1.347890</td>\n",
              "      <td>164.497823</td>\n",
              "      <td>73.546415</td>\n",
              "      <td>128.818912</td>\n",
              "      <td>95.959462</td>\n",
              "      <td>1.359184</td>\n",
              "      <td>1.222737</td>\n",
              "      <td>0.086385</td>\n",
              "      <td>0.052896</td>\n",
              "      <td>0.803672</td>\n",
              "      <td>0.498277</td>\n",
              "    </tr>\n",
              "    <tr>\n",
              "      <th>std</th>\n",
              "      <td>6.745524</td>\n",
              "      <td>0.476305</td>\n",
              "      <td>6.863199</td>\n",
              "      <td>11.721811</td>\n",
              "      <td>161.017939</td>\n",
              "      <td>186.322126</td>\n",
              "      <td>0.674872</td>\n",
              "      <td>0.568992</td>\n",
              "      <td>0.280934</td>\n",
              "      <td>0.223828</td>\n",
              "      <td>0.397223</td>\n",
              "      <td>0.500001</td>\n",
              "    </tr>\n",
              "    <tr>\n",
              "      <th>min</th>\n",
              "      <td>29.583562</td>\n",
              "      <td>1.000000</td>\n",
              "      <td>150.000000</td>\n",
              "      <td>52.000000</td>\n",
              "      <td>-150.000000</td>\n",
              "      <td>-70.000000</td>\n",
              "      <td>1.000000</td>\n",
              "      <td>1.000000</td>\n",
              "      <td>0.000000</td>\n",
              "      <td>0.000000</td>\n",
              "      <td>0.000000</td>\n",
              "      <td>0.000000</td>\n",
              "    </tr>\n",
              "    <tr>\n",
              "      <th>25%</th>\n",
              "      <td>48.438356</td>\n",
              "      <td>1.000000</td>\n",
              "      <td>160.000000</td>\n",
              "      <td>65.000000</td>\n",
              "      <td>120.000000</td>\n",
              "      <td>80.000000</td>\n",
              "      <td>1.000000</td>\n",
              "      <td>1.000000</td>\n",
              "      <td>0.000000</td>\n",
              "      <td>0.000000</td>\n",
              "      <td>1.000000</td>\n",
              "      <td>0.000000</td>\n",
              "    </tr>\n",
              "    <tr>\n",
              "      <th>50%</th>\n",
              "      <td>53.986301</td>\n",
              "      <td>1.000000</td>\n",
              "      <td>165.000000</td>\n",
              "      <td>72.000000</td>\n",
              "      <td>120.000000</td>\n",
              "      <td>80.000000</td>\n",
              "      <td>1.000000</td>\n",
              "      <td>1.000000</td>\n",
              "      <td>0.000000</td>\n",
              "      <td>0.000000</td>\n",
              "      <td>1.000000</td>\n",
              "      <td>0.000000</td>\n",
              "    </tr>\n",
              "    <tr>\n",
              "      <th>75%</th>\n",
              "      <td>58.419178</td>\n",
              "      <td>2.000000</td>\n",
              "      <td>169.000000</td>\n",
              "      <td>81.000000</td>\n",
              "      <td>140.000000</td>\n",
              "      <td>90.000000</td>\n",
              "      <td>1.000000</td>\n",
              "      <td>1.000000</td>\n",
              "      <td>0.000000</td>\n",
              "      <td>0.000000</td>\n",
              "      <td>1.000000</td>\n",
              "      <td>1.000000</td>\n",
              "    </tr>\n",
              "    <tr>\n",
              "      <th>max</th>\n",
              "      <td>64.967123</td>\n",
              "      <td>2.000000</td>\n",
              "      <td>180.000000</td>\n",
              "      <td>106.000000</td>\n",
              "      <td>16020.000000</td>\n",
              "      <td>11000.000000</td>\n",
              "      <td>3.000000</td>\n",
              "      <td>3.000000</td>\n",
              "      <td>1.000000</td>\n",
              "      <td>1.000000</td>\n",
              "      <td>1.000000</td>\n",
              "      <td>1.000000</td>\n",
              "    </tr>\n",
              "  </tbody>\n",
              "</table>\n",
              "</div>"
            ],
            "text/plain": [
              "                age        gender  ...        active        target\n",
              "count  63842.000000  63842.000000  ...  63842.000000  63842.000000\n",
              "mean      53.349959      1.347890  ...      0.803672      0.498277\n",
              "std        6.745524      0.476305  ...      0.397223      0.500001\n",
              "min       29.583562      1.000000  ...      0.000000      0.000000\n",
              "25%       48.438356      1.000000  ...      1.000000      0.000000\n",
              "50%       53.986301      1.000000  ...      1.000000      0.000000\n",
              "75%       58.419178      2.000000  ...      1.000000      1.000000\n",
              "max       64.967123      2.000000  ...      1.000000      1.000000\n",
              "\n",
              "[8 rows x 12 columns]"
            ]
          },
          "metadata": {
            "tags": []
          },
          "execution_count": 23
        }
      ]
    },
    {
      "cell_type": "code",
      "metadata": {
        "id": "stGvS2ASKBde",
        "colab_type": "code",
        "colab": {
          "base_uri": "https://localhost:8080/",
          "height": 313
        },
        "outputId": "633d00e6-5f86-41bd-bc27-e5027b3c6b62"
      },
      "source": [
        "#After cleaning,Now i need to check whether the dataset is balanced or imbalanced.\n",
        "#To draw various insights from data we will use visualization techniques\n",
        "\n",
        "\n",
        "ax=sns.countplot(data['target'],label = 'Count')\n",
        "Y,N=Diseased,NotDiseased=data['target'].value_counts()\n",
        "print('Diseased', Y)\n",
        "print('NotDiseased', N)"
      ],
      "execution_count": 24,
      "outputs": [
        {
          "output_type": "stream",
          "text": [
            "Diseased 32031\n",
            "NotDiseased 31811\n"
          ],
          "name": "stdout"
        },
        {
          "output_type": "display_data",
          "data": {
            "image/png": "[encoded data removed]",
            "text/plain": [
              "<Figure size 432x288 with 1 Axes>"
            ]
          },
          "metadata": {
            "tags": [],
            "needs_background": "light"
          }
        }
      ]
    },
    {
      "cell_type": "code",
      "metadata": {
        "id": "jjbvmfrHKRL5",
        "colab_type": "code",
        "colab": {
          "base_uri": "https://localhost:8080/",
          "height": 441
        },
        "outputId": "0ca40b70-62be-428e-e88a-406d5ba7cf1b"
      },
      "source": [
        "#to check weights and heights of males and females\n",
        "\n",
        "sns.lmplot(x='weight', y='height', hue='gender', data=data, fit_reg=False, height=6)\n",
        "py.show()"
      ],
      "execution_count": 25,
      "outputs": [
        {
          "output_type": "display_data",
          "data": {
            "image/png": "[encoded data removed]",
            "text/plain": [
              "<Figure size 475.5x432 with 1 Axes>"
            ]
          },
          "metadata": {
            "tags": [],
            "needs_background": "light"
          }
        }
      ]
    },
    {
      "cell_type": "code",
      "metadata": {
        "id": "aKn2Yj8PKXS3",
        "colab_type": "code",
        "colab": {
          "base_uri": "https://localhost:8080/",
          "height": 279
        },
        "outputId": "4b603902-5a65-4ae7-ac95-788cbb5bd1ec"
      },
      "source": [
        "#Exploratory Data Analysis\n",
        "#Now lets try to find correlation of features with the target\n",
        "\n",
        "#correlation between glucose with target\n",
        "\n",
        "#normal level=1,above normal=2,high=3\n",
        "\n",
        "sns.countplot(x='glucose', hue='target', data=data)\n",
        "py.show()"
      ],
      "execution_count": 26,
      "outputs": [
        {
          "output_type": "display_data",
          "data": {
            "image/png": "[encoded data removed]",
            "text/plain": [
              "<Figure size 432x288 with 1 Axes>"
            ]
          },
          "metadata": {
            "tags": [],
            "needs_background": "light"
          }
        }
      ]
    },
    {
      "cell_type": "code",
      "metadata": {
        "id": "2aGuruE2KdY7",
        "colab_type": "code",
        "colab": {
          "base_uri": "https://localhost:8080/",
          "height": 279
        },
        "outputId": "cb9d5486-e001-4004-dc3d-3583450e0cfa"
      },
      "source": [
        "sns.countplot(x='cholesterol', hue='target', data=data)\n",
        "py.show()"
      ],
      "execution_count": 27,
      "outputs": [
        {
          "output_type": "display_data",
          "data": {
            "image/png": "[encoded data removed]",
            "text/plain": [
              "<Figure size 432x288 with 1 Axes>"
            ]
          },
          "metadata": {
            "tags": [],
            "needs_background": "light"
          }
        }
      ]
    },
    {
      "cell_type": "code",
      "metadata": {
        "id": "qWCbWbtVKgd6",
        "colab_type": "code",
        "colab": {
          "base_uri": "https://localhost:8080/",
          "height": 279
        },
        "outputId": "43210800-302b-4159-9138-4c095e511737"
      },
      "source": [
        "sns.countplot(x='active', hue='target', data=data)\n",
        "py.show()"
      ],
      "execution_count": 28,
      "outputs": [
        {
          "output_type": "display_data",
          "data": {
            "image/png": "[encoded data removed]",
            "text/plain": [
              "<Figure size 432x288 with 1 Axes>"
            ]
          },
          "metadata": {
            "tags": [],
            "needs_background": "light"
          }
        }
      ]
    },
    {
      "cell_type": "code",
      "metadata": {
        "id": "MhVUEgQMKkD1",
        "colab_type": "code",
        "colab": {
          "base_uri": "https://localhost:8080/",
          "height": 279
        },
        "outputId": "9db01b40-28d6-4e10-f730-4f8d45acccd7"
      },
      "source": [
        "sns.countplot(x='smoke', hue='target', data=data)\n",
        "py.show()"
      ],
      "execution_count": 29,
      "outputs": [
        {
          "output_type": "display_data",
          "data": {
            "image/png": "[encoded data removed]",
            "text/plain": [
              "<Figure size 432x288 with 1 Axes>"
            ]
          },
          "metadata": {
            "tags": [],
            "needs_background": "light"
          }
        }
      ]
    },
    {
      "cell_type": "code",
      "metadata": {
        "id": "PADCp96hKm4A",
        "colab_type": "code",
        "colab": {
          "base_uri": "https://localhost:8080/",
          "height": 279
        },
        "outputId": "8051c20f-8a82-4f6d-96d8-95f5090c307e"
      },
      "source": [
        "sns.countplot(x='alcohol', hue='target', data=data)\n",
        "py.show()"
      ],
      "execution_count": 30,
      "outputs": [
        {
          "output_type": "display_data",
          "data": {
            "image/png": "[encoded data removed]",
            "text/plain": [
              "<Figure size 432x288 with 1 Axes>"
            ]
          },
          "metadata": {
            "tags": [],
            "needs_background": "light"
          }
        }
      ]
    },
    {
      "cell_type": "code",
      "metadata": {
        "id": "WHOPoWEKKped",
        "colab_type": "code",
        "colab": {}
      },
      "source": [
        "#I will move to feature engineering before that we need to add up one feature Body Mass Index .\n",
        "#to check what are the chances for persons  getting a disease because being obese,underweight etc..\n",
        "#i will define a function for BMI\n",
        "\n",
        "\n",
        "def BMI(data):\n",
        "    return data['weight'] / (data['height']/100)**2\n",
        " \n",
        "data['bmi'] = data.apply(BMI, axis=1)"
      ],
      "execution_count": 0,
      "outputs": []
    },
    {
      "cell_type": "code",
      "metadata": {
        "id": "PIfYr50PKuCd",
        "colab_type": "code",
        "colab": {
          "base_uri": "https://localhost:8080/",
          "height": 204
        },
        "outputId": "da8c203b-5181-4c84-aaa2-0d860fec9523"
      },
      "source": [
        "data.head()"
      ],
      "execution_count": 32,
      "outputs": [
        {
          "output_type": "execute_result",
          "data": {
            "text/html": [
              "<div>\n",
              "<style scoped>\n",
              "    .dataframe tbody tr th:only-of-type {\n",
              "        vertical-align: middle;\n",
              "    }\n",
              "\n",
              "    .dataframe tbody tr th {\n",
              "        vertical-align: top;\n",
              "    }\n",
              "\n",
              "    .dataframe thead th {\n",
              "        text-align: right;\n",
              "    }\n",
              "</style>\n",
              "<table border=\"1\" class=\"dataframe\">\n",
              "  <thead>\n",
              "    <tr style=\"text-align: right;\">\n",
              "      <th></th>\n",
              "      <th>age</th>\n",
              "      <th>gender</th>\n",
              "      <th>height</th>\n",
              "      <th>weight</th>\n",
              "      <th>systolic</th>\n",
              "      <th>diastolic</th>\n",
              "      <th>cholesterol</th>\n",
              "      <th>glucose</th>\n",
              "      <th>smoke</th>\n",
              "      <th>alcohol</th>\n",
              "      <th>active</th>\n",
              "      <th>target</th>\n",
              "      <th>bmi</th>\n",
              "    </tr>\n",
              "  </thead>\n",
              "  <tbody>\n",
              "    <tr>\n",
              "      <th>0</th>\n",
              "      <td>50.391781</td>\n",
              "      <td>2</td>\n",
              "      <td>168</td>\n",
              "      <td>62.0</td>\n",
              "      <td>110</td>\n",
              "      <td>80</td>\n",
              "      <td>1</td>\n",
              "      <td>1</td>\n",
              "      <td>0</td>\n",
              "      <td>0</td>\n",
              "      <td>1</td>\n",
              "      <td>0</td>\n",
              "      <td>21.967120</td>\n",
              "    </tr>\n",
              "    <tr>\n",
              "      <th>1</th>\n",
              "      <td>55.419178</td>\n",
              "      <td>1</td>\n",
              "      <td>156</td>\n",
              "      <td>85.0</td>\n",
              "      <td>140</td>\n",
              "      <td>90</td>\n",
              "      <td>3</td>\n",
              "      <td>1</td>\n",
              "      <td>0</td>\n",
              "      <td>0</td>\n",
              "      <td>1</td>\n",
              "      <td>1</td>\n",
              "      <td>34.927679</td>\n",
              "    </tr>\n",
              "    <tr>\n",
              "      <th>2</th>\n",
              "      <td>51.663014</td>\n",
              "      <td>1</td>\n",
              "      <td>165</td>\n",
              "      <td>64.0</td>\n",
              "      <td>130</td>\n",
              "      <td>70</td>\n",
              "      <td>3</td>\n",
              "      <td>1</td>\n",
              "      <td>0</td>\n",
              "      <td>0</td>\n",
              "      <td>0</td>\n",
              "      <td>1</td>\n",
              "      <td>23.507805</td>\n",
              "    </tr>\n",
              "    <tr>\n",
              "      <th>3</th>\n",
              "      <td>48.282192</td>\n",
              "      <td>2</td>\n",
              "      <td>169</td>\n",
              "      <td>82.0</td>\n",
              "      <td>150</td>\n",
              "      <td>100</td>\n",
              "      <td>1</td>\n",
              "      <td>1</td>\n",
              "      <td>0</td>\n",
              "      <td>0</td>\n",
              "      <td>1</td>\n",
              "      <td>1</td>\n",
              "      <td>28.710479</td>\n",
              "    </tr>\n",
              "    <tr>\n",
              "      <th>4</th>\n",
              "      <td>47.873973</td>\n",
              "      <td>1</td>\n",
              "      <td>156</td>\n",
              "      <td>56.0</td>\n",
              "      <td>100</td>\n",
              "      <td>60</td>\n",
              "      <td>1</td>\n",
              "      <td>1</td>\n",
              "      <td>0</td>\n",
              "      <td>0</td>\n",
              "      <td>0</td>\n",
              "      <td>0</td>\n",
              "      <td>23.011177</td>\n",
              "    </tr>\n",
              "  </tbody>\n",
              "</table>\n",
              "</div>"
            ],
            "text/plain": [
              "         age  gender  height  weight  ...  alcohol  active  target        bmi\n",
              "0  50.391781       2     168    62.0  ...        0       1       0  21.967120\n",
              "1  55.419178       1     156    85.0  ...        0       1       1  34.927679\n",
              "2  51.663014       1     165    64.0  ...        0       0       1  23.507805\n",
              "3  48.282192       2     169    82.0  ...        0       1       1  28.710479\n",
              "4  47.873973       1     156    56.0  ...        0       0       0  23.011177\n",
              "\n",
              "[5 rows x 13 columns]"
            ]
          },
          "metadata": {
            "tags": []
          },
          "execution_count": 32
        }
      ]
    },
    {
      "cell_type": "code",
      "metadata": {
        "id": "n_EisHw6Kxbf",
        "colab_type": "code",
        "colab": {}
      },
      "source": [
        "#On the basis of BMI we assign weight_status feature  under different catagories\n",
        "\n",
        "data['weight_status'] = data['bmi'].apply(lambda x :'Underweight' if x <= 18.5 else ('Normal' if (x > 18.5 and x <= 24.9) else ( 'Overweight' if (x > 24.9 and x <= 29.9) else 'obese')) )"
      ],
      "execution_count": 0,
      "outputs": []
    },
    {
      "cell_type": "code",
      "metadata": {
        "id": "jFjQyjR9K1Xs",
        "colab_type": "code",
        "colab": {}
      },
      "source": [
        "# i will use pulse indicator that also has a effect on target\n",
        "\n",
        "data['pulse pressure'] = data['systolic'] - data['diastolic']"
      ],
      "execution_count": 0,
      "outputs": []
    },
    {
      "cell_type": "code",
      "metadata": {
        "id": "jQ-vmucTK5DC",
        "colab_type": "code",
        "colab": {
          "base_uri": "https://localhost:8080/",
          "height": 241
        },
        "outputId": "d4b3b077-d470-4df6-b91f-8912be636a9e"
      },
      "source": [
        "# To check High BMI value person correlation to cardio vascular diseases\n",
        "\n",
        "data[(data['pulse pressure'] >= 60 ) & (data['cholesterol'] == 3)].head()"
      ],
      "execution_count": 35,
      "outputs": [
        {
          "output_type": "execute_result",
          "data": {
            "text/html": [
              "<div>\n",
              "<style scoped>\n",
              "    .dataframe tbody tr th:only-of-type {\n",
              "        vertical-align: middle;\n",
              "    }\n",
              "\n",
              "    .dataframe tbody tr th {\n",
              "        vertical-align: top;\n",
              "    }\n",
              "\n",
              "    .dataframe thead th {\n",
              "        text-align: right;\n",
              "    }\n",
              "</style>\n",
              "<table border=\"1\" class=\"dataframe\">\n",
              "  <thead>\n",
              "    <tr style=\"text-align: right;\">\n",
              "      <th></th>\n",
              "      <th>age</th>\n",
              "      <th>gender</th>\n",
              "      <th>height</th>\n",
              "      <th>weight</th>\n",
              "      <th>systolic</th>\n",
              "      <th>diastolic</th>\n",
              "      <th>cholesterol</th>\n",
              "      <th>glucose</th>\n",
              "      <th>smoke</th>\n",
              "      <th>alcohol</th>\n",
              "      <th>active</th>\n",
              "      <th>target</th>\n",
              "      <th>bmi</th>\n",
              "      <th>weight_status</th>\n",
              "      <th>pulse pressure</th>\n",
              "    </tr>\n",
              "  </thead>\n",
              "  <tbody>\n",
              "    <tr>\n",
              "      <th>2</th>\n",
              "      <td>51.663014</td>\n",
              "      <td>1</td>\n",
              "      <td>165</td>\n",
              "      <td>64.0</td>\n",
              "      <td>130</td>\n",
              "      <td>70</td>\n",
              "      <td>3</td>\n",
              "      <td>1</td>\n",
              "      <td>0</td>\n",
              "      <td>0</td>\n",
              "      <td>0</td>\n",
              "      <td>1</td>\n",
              "      <td>23.507805</td>\n",
              "      <td>Normal</td>\n",
              "      <td>60</td>\n",
              "    </tr>\n",
              "    <tr>\n",
              "      <th>24</th>\n",
              "      <td>45.501370</td>\n",
              "      <td>1</td>\n",
              "      <td>170</td>\n",
              "      <td>68.0</td>\n",
              "      <td>150</td>\n",
              "      <td>90</td>\n",
              "      <td>3</td>\n",
              "      <td>1</td>\n",
              "      <td>0</td>\n",
              "      <td>0</td>\n",
              "      <td>1</td>\n",
              "      <td>1</td>\n",
              "      <td>23.529412</td>\n",
              "      <td>Normal</td>\n",
              "      <td>60</td>\n",
              "    </tr>\n",
              "    <tr>\n",
              "      <th>61</th>\n",
              "      <td>57.424658</td>\n",
              "      <td>2</td>\n",
              "      <td>165</td>\n",
              "      <td>75.0</td>\n",
              "      <td>180</td>\n",
              "      <td>90</td>\n",
              "      <td>3</td>\n",
              "      <td>1</td>\n",
              "      <td>0</td>\n",
              "      <td>0</td>\n",
              "      <td>1</td>\n",
              "      <td>1</td>\n",
              "      <td>27.548209</td>\n",
              "      <td>Overweight</td>\n",
              "      <td>90</td>\n",
              "    </tr>\n",
              "    <tr>\n",
              "      <th>194</th>\n",
              "      <td>60.243836</td>\n",
              "      <td>1</td>\n",
              "      <td>162</td>\n",
              "      <td>62.0</td>\n",
              "      <td>140</td>\n",
              "      <td>80</td>\n",
              "      <td>3</td>\n",
              "      <td>1</td>\n",
              "      <td>0</td>\n",
              "      <td>0</td>\n",
              "      <td>1</td>\n",
              "      <td>1</td>\n",
              "      <td>23.624447</td>\n",
              "      <td>Normal</td>\n",
              "      <td>60</td>\n",
              "    </tr>\n",
              "    <tr>\n",
              "      <th>221</th>\n",
              "      <td>48.194521</td>\n",
              "      <td>1</td>\n",
              "      <td>157</td>\n",
              "      <td>70.0</td>\n",
              "      <td>160</td>\n",
              "      <td>100</td>\n",
              "      <td>3</td>\n",
              "      <td>1</td>\n",
              "      <td>0</td>\n",
              "      <td>0</td>\n",
              "      <td>0</td>\n",
              "      <td>1</td>\n",
              "      <td>28.398718</td>\n",
              "      <td>Overweight</td>\n",
              "      <td>60</td>\n",
              "    </tr>\n",
              "  </tbody>\n",
              "</table>\n",
              "</div>"
            ],
            "text/plain": [
              "           age  gender  height  ...        bmi  weight_status  pulse pressure\n",
              "2    51.663014       1     165  ...  23.507805         Normal              60\n",
              "24   45.501370       1     170  ...  23.529412         Normal              60\n",
              "61   57.424658       2     165  ...  27.548209     Overweight              90\n",
              "194  60.243836       1     162  ...  23.624447         Normal              60\n",
              "221  48.194521       1     157  ...  28.398718     Overweight              60\n",
              "\n",
              "[5 rows x 15 columns]"
            ]
          },
          "metadata": {
            "tags": []
          },
          "execution_count": 35
        }
      ]
    },
    {
      "cell_type": "code",
      "metadata": {
        "id": "h7mbBubQK_Vj",
        "colab_type": "code",
        "colab": {}
      },
      "source": [
        "# Splitting data into training and testing datasets\n",
        "\n",
        "\n",
        "X = data.drop(['weight_status', 'target'], axis=1)\n",
        "y = data['target']\n",
        "\n",
        "from sklearn.model_selection import train_test_split\n",
        "X_train, X_test, y_train, y_test = train_test_split(X, y, test_size=0.10, random_state=2)"
      ],
      "execution_count": 0,
      "outputs": []
    },
    {
      "cell_type": "code",
      "metadata": {
        "id": "RWxvkzx2LDS8",
        "colab_type": "code",
        "colab": {}
      },
      "source": [
        "#Now we will do scaling of data by feature scaling by importing library StandardScaleer\n",
        "\n",
        "from sklearn.preprocessing import StandardScaler\n",
        "sc_X = StandardScaler()\n",
        "X_train = sc_X.fit_transform(X_train)\n",
        "X_test = sc_X.transform(X_test)"
      ],
      "execution_count": 0,
      "outputs": []
    },
    {
      "cell_type": "code",
      "metadata": {
        "id": "NaMvhtmFLGuV",
        "colab_type": "code",
        "colab": {
          "base_uri": "https://localhost:8080/",
          "height": 34
        },
        "outputId": "cb372257-386b-41c1-f5a8-a10dd1c58db4"
      },
      "source": [
        "#Check length of train set \n",
        "\n",
        "len(X_train)"
      ],
      "execution_count": 38,
      "outputs": [
        {
          "output_type": "execute_result",
          "data": {
            "text/plain": [
              "57457"
            ]
          },
          "metadata": {
            "tags": []
          },
          "execution_count": 38
        }
      ]
    },
    {
      "cell_type": "code",
      "metadata": {
        "id": "5T6yQkh0LJ12",
        "colab_type": "code",
        "colab": {
          "base_uri": "https://localhost:8080/",
          "height": 34
        },
        "outputId": "d95b09bc-6bff-49e2-eb72-563ebe1d60a6"
      },
      "source": [
        "len(y_train)"
      ],
      "execution_count": 39,
      "outputs": [
        {
          "output_type": "execute_result",
          "data": {
            "text/plain": [
              "57457"
            ]
          },
          "metadata": {
            "tags": []
          },
          "execution_count": 39
        }
      ]
    },
    {
      "cell_type": "code",
      "metadata": {
        "id": "3MW96IvjLMc6",
        "colab_type": "code",
        "colab": {
          "base_uri": "https://localhost:8080/",
          "height": 34
        },
        "outputId": "2099b5d3-ff13-47e1-84b6-e072819a2840"
      },
      "source": [
        "import keras\n",
        "from keras.models import Sequential\n",
        "from keras.layers import Dense\n",
        "\n"
      ],
      "execution_count": 49,
      "outputs": [
        {
          "output_type": "stream",
          "text": [
            "Using TensorFlow backend.\n"
          ],
          "name": "stderr"
        }
      ]
    },
    {
      "cell_type": "code",
      "metadata": {
        "id": "z_67GUn4LQpM",
        "colab_type": "code",
        "colab": {
          "base_uri": "https://localhost:8080/",
          "height": 139
        },
        "outputId": "720e4b15-d5c0-4e18-be7a-b8f7ff5b2f2e"
      },
      "source": [
        "classifier = Sequential()\n",
        "classifier.add(Dense(output_dim=7, init='uniform', activation = 'softsign' , input_dim=13))\n",
        "\n",
        "\n",
        "classifier.add(Dense(output_dim=7, init='uniform', activation = 'softsign'))\n",
        "\n",
        "\n",
        "classifier.add(Dense(output_dim=1, init='uniform', activation = 'sigmoid'))"
      ],
      "execution_count": 58,
      "outputs": [
        {
          "output_type": "stream",
          "text": [
            "/usr/local/lib/python3.6/dist-packages/ipykernel_launcher.py:2: UserWarning: Update your `Dense` call to the Keras 2 API: `Dense(activation=\"softsign\", input_dim=13, units=7, kernel_initializer=\"uniform\")`\n",
            "  \n",
            "/usr/local/lib/python3.6/dist-packages/ipykernel_launcher.py:5: UserWarning: Update your `Dense` call to the Keras 2 API: `Dense(activation=\"softsign\", units=7, kernel_initializer=\"uniform\")`\n",
            "  \"\"\"\n",
            "/usr/local/lib/python3.6/dist-packages/ipykernel_launcher.py:8: UserWarning: Update your `Dense` call to the Keras 2 API: `Dense(activation=\"sigmoid\", units=1, kernel_initializer=\"uniform\")`\n",
            "  \n"
          ],
          "name": "stderr"
        }
      ]
    },
    {
      "cell_type": "code",
      "metadata": {
        "id": "z0NbhZSdLg_L",
        "colab_type": "code",
        "colab": {}
      },
      "source": [
        "classifier.compile(optimizer='Nadam',loss='binary_crossentropy',metrics=['accuracy'])"
      ],
      "execution_count": 0,
      "outputs": []
    },
    {
      "cell_type": "code",
      "metadata": {
        "id": "bAj3plGvLkds",
        "colab_type": "code",
        "colab": {
          "base_uri": "https://localhost:8080/",
          "height": 1000
        },
        "outputId": "f3fcb3d9-c60f-4671-a940-9cfa00550a65"
      },
      "source": [
        "classifier.fit(X_train,y_train,batch_size=100,nb_epoch=150)"
      ],
      "execution_count": 60,
      "outputs": [
        {
          "output_type": "stream",
          "text": [
            "/usr/local/lib/python3.6/dist-packages/ipykernel_launcher.py:1: UserWarning: The `nb_epoch` argument in `fit` has been renamed `epochs`.\n",
            "  \"\"\"Entry point for launching an IPython kernel.\n"
          ],
          "name": "stderr"
        },
        {
          "output_type": "stream",
          "text": [
            "Epoch 1/150\n",
            "57457/57457 [==============================] - 2s 35us/step - loss: 0.5934 - accuracy: 0.6898\n",
            "Epoch 2/150\n",
            "57457/57457 [==============================] - 2s 33us/step - loss: 0.5579 - accuracy: 0.7253\n",
            "Epoch 3/150\n",
            "57457/57457 [==============================] - 2s 33us/step - loss: 0.5565 - accuracy: 0.7258\n",
            "Epoch 4/150\n",
            "57457/57457 [==============================] - 2s 33us/step - loss: 0.5553 - accuracy: 0.7275\n",
            "Epoch 5/150\n",
            "57457/57457 [==============================] - 2s 33us/step - loss: 0.5543 - accuracy: 0.7270\n",
            "Epoch 6/150\n",
            "57457/57457 [==============================] - 2s 34us/step - loss: 0.5536 - accuracy: 0.7281\n",
            "Epoch 7/150\n",
            "57457/57457 [==============================] - 2s 33us/step - loss: 0.5526 - accuracy: 0.7277\n",
            "Epoch 8/150\n",
            "57457/57457 [==============================] - 2s 33us/step - loss: 0.5520 - accuracy: 0.7274\n",
            "Epoch 9/150\n",
            "57457/57457 [==============================] - 2s 33us/step - loss: 0.5515 - accuracy: 0.7292\n",
            "Epoch 10/150\n",
            "57457/57457 [==============================] - 2s 33us/step - loss: 0.5511 - accuracy: 0.7282\n",
            "Epoch 11/150\n",
            "57457/57457 [==============================] - 2s 33us/step - loss: 0.5505 - accuracy: 0.7285\n",
            "Epoch 12/150\n",
            "57457/57457 [==============================] - 2s 33us/step - loss: 0.5502 - accuracy: 0.7286\n",
            "Epoch 13/150\n",
            "57457/57457 [==============================] - 2s 33us/step - loss: 0.5499 - accuracy: 0.7285\n",
            "Epoch 14/150\n",
            "57457/57457 [==============================] - 2s 33us/step - loss: 0.5494 - accuracy: 0.7293\n",
            "Epoch 15/150\n",
            "57457/57457 [==============================] - 2s 33us/step - loss: 0.5492 - accuracy: 0.7301\n",
            "Epoch 16/150\n",
            "57457/57457 [==============================] - 2s 33us/step - loss: 0.5490 - accuracy: 0.7293\n",
            "Epoch 17/150\n",
            "57457/57457 [==============================] - 2s 33us/step - loss: 0.5487 - accuracy: 0.7310\n",
            "Epoch 18/150\n",
            "57457/57457 [==============================] - 2s 33us/step - loss: 0.5484 - accuracy: 0.7305\n",
            "Epoch 19/150\n",
            "57457/57457 [==============================] - 2s 33us/step - loss: 0.5482 - accuracy: 0.7307\n",
            "Epoch 20/150\n",
            "57457/57457 [==============================] - 2s 33us/step - loss: 0.5479 - accuracy: 0.7299\n",
            "Epoch 21/150\n",
            "57457/57457 [==============================] - 2s 33us/step - loss: 0.5476 - accuracy: 0.7308\n",
            "Epoch 22/150\n",
            "57457/57457 [==============================] - 2s 33us/step - loss: 0.5473 - accuracy: 0.7318\n",
            "Epoch 23/150\n",
            "57457/57457 [==============================] - 2s 33us/step - loss: 0.5472 - accuracy: 0.7317\n",
            "Epoch 24/150\n",
            "57457/57457 [==============================] - 2s 33us/step - loss: 0.5468 - accuracy: 0.7318\n",
            "Epoch 25/150\n",
            "57457/57457 [==============================] - 2s 32us/step - loss: 0.5468 - accuracy: 0.7318\n",
            "Epoch 26/150\n",
            "57457/57457 [==============================] - 2s 33us/step - loss: 0.5465 - accuracy: 0.7323\n",
            "Epoch 27/150\n",
            "57457/57457 [==============================] - 2s 33us/step - loss: 0.5463 - accuracy: 0.7318\n",
            "Epoch 28/150\n",
            "57457/57457 [==============================] - 2s 32us/step - loss: 0.5460 - accuracy: 0.7316\n",
            "Epoch 29/150\n",
            "57457/57457 [==============================] - 2s 33us/step - loss: 0.5458 - accuracy: 0.7324\n",
            "Epoch 30/150\n",
            "57457/57457 [==============================] - 2s 32us/step - loss: 0.5459 - accuracy: 0.7317\n",
            "Epoch 31/150\n",
            "57457/57457 [==============================] - 2s 33us/step - loss: 0.5456 - accuracy: 0.7328\n",
            "Epoch 32/150\n",
            "57457/57457 [==============================] - 2s 32us/step - loss: 0.5455 - accuracy: 0.7321\n",
            "Epoch 33/150\n",
            "57457/57457 [==============================] - 2s 32us/step - loss: 0.5454 - accuracy: 0.7325\n",
            "Epoch 34/150\n",
            "57457/57457 [==============================] - 2s 32us/step - loss: 0.5452 - accuracy: 0.7336\n",
            "Epoch 35/150\n",
            "57457/57457 [==============================] - 2s 33us/step - loss: 0.5452 - accuracy: 0.7323\n",
            "Epoch 36/150\n",
            "57457/57457 [==============================] - 2s 32us/step - loss: 0.5451 - accuracy: 0.7330\n",
            "Epoch 37/150\n",
            "57457/57457 [==============================] - 2s 32us/step - loss: 0.5449 - accuracy: 0.7330\n",
            "Epoch 38/150\n",
            "57457/57457 [==============================] - 2s 33us/step - loss: 0.5449 - accuracy: 0.7331\n",
            "Epoch 39/150\n",
            "57457/57457 [==============================] - 2s 32us/step - loss: 0.5448 - accuracy: 0.7327\n",
            "Epoch 40/150\n",
            "57457/57457 [==============================] - 2s 32us/step - loss: 0.5447 - accuracy: 0.7331\n",
            "Epoch 41/150\n",
            "57457/57457 [==============================] - 2s 33us/step - loss: 0.5445 - accuracy: 0.7338\n",
            "Epoch 42/150\n",
            "57457/57457 [==============================] - 2s 33us/step - loss: 0.5443 - accuracy: 0.7332\n",
            "Epoch 43/150\n",
            "57457/57457 [==============================] - 2s 33us/step - loss: 0.5444 - accuracy: 0.7336\n",
            "Epoch 44/150\n",
            "57457/57457 [==============================] - 2s 33us/step - loss: 0.5442 - accuracy: 0.7319\n",
            "Epoch 45/150\n",
            "57457/57457 [==============================] - 2s 33us/step - loss: 0.5443 - accuracy: 0.7340\n",
            "Epoch 46/150\n",
            "57457/57457 [==============================] - 2s 32us/step - loss: 0.5442 - accuracy: 0.7338\n",
            "Epoch 47/150\n",
            "57457/57457 [==============================] - 2s 32us/step - loss: 0.5441 - accuracy: 0.7332\n",
            "Epoch 48/150\n",
            "57457/57457 [==============================] - 2s 32us/step - loss: 0.5441 - accuracy: 0.7340\n",
            "Epoch 49/150\n",
            "57457/57457 [==============================] - 2s 32us/step - loss: 0.5439 - accuracy: 0.7334\n",
            "Epoch 50/150\n",
            "57457/57457 [==============================] - 2s 32us/step - loss: 0.5439 - accuracy: 0.7329\n",
            "Epoch 51/150\n",
            "57457/57457 [==============================] - 2s 32us/step - loss: 0.5439 - accuracy: 0.7330\n",
            "Epoch 52/150\n",
            "57457/57457 [==============================] - 2s 33us/step - loss: 0.5439 - accuracy: 0.7325\n",
            "Epoch 53/150\n",
            "57457/57457 [==============================] - 2s 32us/step - loss: 0.5437 - accuracy: 0.7336\n",
            "Epoch 54/150\n",
            "57457/57457 [==============================] - 2s 32us/step - loss: 0.5437 - accuracy: 0.7321\n",
            "Epoch 55/150\n",
            "57457/57457 [==============================] - 2s 32us/step - loss: 0.5439 - accuracy: 0.7335\n",
            "Epoch 56/150\n",
            "57457/57457 [==============================] - 2s 32us/step - loss: 0.5437 - accuracy: 0.7335\n",
            "Epoch 57/150\n",
            "57457/57457 [==============================] - 2s 32us/step - loss: 0.5437 - accuracy: 0.7337\n",
            "Epoch 58/150\n",
            "57457/57457 [==============================] - 2s 32us/step - loss: 0.5438 - accuracy: 0.7332\n",
            "Epoch 59/150\n",
            "57457/57457 [==============================] - 2s 32us/step - loss: 0.5435 - accuracy: 0.7332\n",
            "Epoch 60/150\n",
            "57457/57457 [==============================] - 2s 32us/step - loss: 0.5434 - accuracy: 0.7332\n",
            "Epoch 61/150\n",
            "57457/57457 [==============================] - 2s 32us/step - loss: 0.5435 - accuracy: 0.7334\n",
            "Epoch 62/150\n",
            "57457/57457 [==============================] - 2s 32us/step - loss: 0.5436 - accuracy: 0.7326\n",
            "Epoch 63/150\n",
            "57457/57457 [==============================] - 2s 33us/step - loss: 0.5435 - accuracy: 0.7333\n",
            "Epoch 64/150\n",
            "57457/57457 [==============================] - 2s 32us/step - loss: 0.5433 - accuracy: 0.7329\n",
            "Epoch 65/150\n",
            "57457/57457 [==============================] - 2s 32us/step - loss: 0.5434 - accuracy: 0.7326\n",
            "Epoch 66/150\n",
            "57457/57457 [==============================] - 2s 40us/step - loss: 0.5433 - accuracy: 0.7324\n",
            "Epoch 67/150\n",
            "57457/57457 [==============================] - 2s 33us/step - loss: 0.5433 - accuracy: 0.7325\n",
            "Epoch 68/150\n",
            "57457/57457 [==============================] - 2s 33us/step - loss: 0.5435 - accuracy: 0.7328\n",
            "Epoch 69/150\n",
            "57457/57457 [==============================] - 2s 33us/step - loss: 0.5432 - accuracy: 0.7335\n",
            "Epoch 70/150\n",
            "57457/57457 [==============================] - 2s 33us/step - loss: 0.5433 - accuracy: 0.7332\n",
            "Epoch 71/150\n",
            "57457/57457 [==============================] - 2s 33us/step - loss: 0.5433 - accuracy: 0.7326\n",
            "Epoch 72/150\n",
            "57457/57457 [==============================] - 2s 33us/step - loss: 0.5432 - accuracy: 0.7331\n",
            "Epoch 73/150\n",
            "57457/57457 [==============================] - 2s 33us/step - loss: 0.5431 - accuracy: 0.7332\n",
            "Epoch 74/150\n",
            "57457/57457 [==============================] - 2s 32us/step - loss: 0.5432 - accuracy: 0.7333\n",
            "Epoch 75/150\n",
            "57457/57457 [==============================] - 2s 34us/step - loss: 0.5433 - accuracy: 0.7325\n",
            "Epoch 76/150\n",
            "57457/57457 [==============================] - 2s 35us/step - loss: 0.5431 - accuracy: 0.7331\n",
            "Epoch 77/150\n",
            "57457/57457 [==============================] - 2s 35us/step - loss: 0.5431 - accuracy: 0.7333\n",
            "Epoch 78/150\n",
            "57457/57457 [==============================] - 2s 35us/step - loss: 0.5431 - accuracy: 0.7327\n",
            "Epoch 79/150\n",
            "57457/57457 [==============================] - 2s 34us/step - loss: 0.5431 - accuracy: 0.7332\n",
            "Epoch 80/150\n",
            "57457/57457 [==============================] - 2s 33us/step - loss: 0.5430 - accuracy: 0.7331\n",
            "Epoch 81/150\n",
            "57457/57457 [==============================] - 2s 32us/step - loss: 0.5430 - accuracy: 0.7329\n",
            "Epoch 82/150\n",
            "57457/57457 [==============================] - 2s 32us/step - loss: 0.5430 - accuracy: 0.7324\n",
            "Epoch 83/150\n",
            "57457/57457 [==============================] - 2s 33us/step - loss: 0.5430 - accuracy: 0.7322\n",
            "Epoch 84/150\n",
            "57457/57457 [==============================] - 2s 34us/step - loss: 0.5429 - accuracy: 0.7329\n",
            "Epoch 85/150\n",
            "57457/57457 [==============================] - 2s 33us/step - loss: 0.5429 - accuracy: 0.7331\n",
            "Epoch 86/150\n",
            "57457/57457 [==============================] - 2s 34us/step - loss: 0.5430 - accuracy: 0.7322\n",
            "Epoch 87/150\n",
            "57457/57457 [==============================] - 2s 33us/step - loss: 0.5429 - accuracy: 0.7335\n",
            "Epoch 88/150\n",
            "57457/57457 [==============================] - 2s 33us/step - loss: 0.5431 - accuracy: 0.7328\n",
            "Epoch 89/150\n",
            "57457/57457 [==============================] - 2s 32us/step - loss: 0.5430 - accuracy: 0.7327\n",
            "Epoch 90/150\n",
            "57457/57457 [==============================] - 2s 32us/step - loss: 0.5430 - accuracy: 0.7333\n",
            "Epoch 91/150\n",
            "57457/57457 [==============================] - 2s 32us/step - loss: 0.5430 - accuracy: 0.7329\n",
            "Epoch 92/150\n",
            "57457/57457 [==============================] - 2s 32us/step - loss: 0.5430 - accuracy: 0.7321\n",
            "Epoch 93/150\n",
            "57457/57457 [==============================] - 2s 32us/step - loss: 0.5431 - accuracy: 0.7332\n",
            "Epoch 94/150\n",
            "57457/57457 [==============================] - 2s 32us/step - loss: 0.5429 - accuracy: 0.7336\n",
            "Epoch 95/150\n",
            "57457/57457 [==============================] - 2s 32us/step - loss: 0.5429 - accuracy: 0.7332\n",
            "Epoch 96/150\n",
            "57457/57457 [==============================] - 2s 32us/step - loss: 0.5430 - accuracy: 0.7329\n",
            "Epoch 97/150\n",
            "57457/57457 [==============================] - 2s 32us/step - loss: 0.5428 - accuracy: 0.7329\n",
            "Epoch 98/150\n",
            "57457/57457 [==============================] - 2s 32us/step - loss: 0.5428 - accuracy: 0.7333\n",
            "Epoch 99/150\n",
            "57457/57457 [==============================] - 2s 32us/step - loss: 0.5429 - accuracy: 0.7331\n",
            "Epoch 100/150\n",
            "57457/57457 [==============================] - 2s 32us/step - loss: 0.5429 - accuracy: 0.7331\n",
            "Epoch 101/150\n",
            "57457/57457 [==============================] - 2s 33us/step - loss: 0.5428 - accuracy: 0.7327\n",
            "Epoch 102/150\n",
            "57457/57457 [==============================] - 2s 33us/step - loss: 0.5428 - accuracy: 0.7325\n",
            "Epoch 103/150\n",
            "57457/57457 [==============================] - 2s 32us/step - loss: 0.5428 - accuracy: 0.7333\n",
            "Epoch 104/150\n",
            "57457/57457 [==============================] - 2s 32us/step - loss: 0.5428 - accuracy: 0.7334\n",
            "Epoch 105/150\n",
            "57457/57457 [==============================] - 2s 32us/step - loss: 0.5428 - accuracy: 0.7324\n",
            "Epoch 106/150\n",
            "57457/57457 [==============================] - 2s 32us/step - loss: 0.5429 - accuracy: 0.7325\n",
            "Epoch 107/150\n",
            "57457/57457 [==============================] - 2s 32us/step - loss: 0.5428 - accuracy: 0.7336\n",
            "Epoch 108/150\n",
            "57457/57457 [==============================] - 2s 32us/step - loss: 0.5428 - accuracy: 0.7332\n",
            "Epoch 109/150\n",
            "57457/57457 [==============================] - 2s 32us/step - loss: 0.5428 - accuracy: 0.7329\n",
            "Epoch 110/150\n",
            "57457/57457 [==============================] - 2s 32us/step - loss: 0.5429 - accuracy: 0.7328\n",
            "Epoch 111/150\n",
            "57457/57457 [==============================] - 2s 32us/step - loss: 0.5428 - accuracy: 0.7329\n",
            "Epoch 112/150\n",
            "57457/57457 [==============================] - 2s 32us/step - loss: 0.5428 - accuracy: 0.7329\n",
            "Epoch 113/150\n",
            "57457/57457 [==============================] - 2s 31us/step - loss: 0.5429 - accuracy: 0.7318\n",
            "Epoch 114/150\n",
            "57457/57457 [==============================] - 2s 32us/step - loss: 0.5426 - accuracy: 0.7334\n",
            "Epoch 115/150\n",
            "57457/57457 [==============================] - 2s 32us/step - loss: 0.5427 - accuracy: 0.7330\n",
            "Epoch 116/150\n",
            "57457/57457 [==============================] - 2s 32us/step - loss: 0.5427 - accuracy: 0.7325\n",
            "Epoch 117/150\n",
            "57457/57457 [==============================] - 2s 32us/step - loss: 0.5427 - accuracy: 0.7333\n",
            "Epoch 118/150\n",
            "57457/57457 [==============================] - 2s 32us/step - loss: 0.5427 - accuracy: 0.7331\n",
            "Epoch 119/150\n",
            "57457/57457 [==============================] - 2s 32us/step - loss: 0.5427 - accuracy: 0.7327\n",
            "Epoch 120/150\n",
            "57457/57457 [==============================] - 2s 32us/step - loss: 0.5427 - accuracy: 0.7334\n",
            "Epoch 121/150\n",
            "57457/57457 [==============================] - 2s 32us/step - loss: 0.5427 - accuracy: 0.7330\n",
            "Epoch 122/150\n",
            "57457/57457 [==============================] - 2s 32us/step - loss: 0.5427 - accuracy: 0.7324\n",
            "Epoch 123/150\n",
            "57457/57457 [==============================] - 2s 31us/step - loss: 0.5426 - accuracy: 0.7322\n",
            "Epoch 124/150\n",
            "57457/57457 [==============================] - 2s 31us/step - loss: 0.5425 - accuracy: 0.7329\n",
            "Epoch 125/150\n",
            "57457/57457 [==============================] - 2s 31us/step - loss: 0.5427 - accuracy: 0.7325\n",
            "Epoch 126/150\n",
            "57457/57457 [==============================] - 2s 32us/step - loss: 0.5427 - accuracy: 0.7330\n",
            "Epoch 127/150\n",
            "57457/57457 [==============================] - 2s 32us/step - loss: 0.5426 - accuracy: 0.7327\n",
            "Epoch 128/150\n",
            "57457/57457 [==============================] - 2s 32us/step - loss: 0.5426 - accuracy: 0.7331\n",
            "Epoch 129/150\n",
            "57457/57457 [==============================] - 2s 32us/step - loss: 0.5426 - accuracy: 0.7336\n",
            "Epoch 130/150\n",
            "57457/57457 [==============================] - 2s 32us/step - loss: 0.5427 - accuracy: 0.7337\n",
            "Epoch 131/150\n",
            "57457/57457 [==============================] - 2s 32us/step - loss: 0.5424 - accuracy: 0.7334\n",
            "Epoch 132/150\n",
            "57457/57457 [==============================] - 2s 32us/step - loss: 0.5426 - accuracy: 0.7325\n",
            "Epoch 133/150\n",
            "57457/57457 [==============================] - 2s 32us/step - loss: 0.5425 - accuracy: 0.7325\n",
            "Epoch 134/150\n",
            "57457/57457 [==============================] - 2s 32us/step - loss: 0.5426 - accuracy: 0.7329\n",
            "Epoch 135/150\n",
            "57457/57457 [==============================] - 2s 32us/step - loss: 0.5426 - accuracy: 0.7331\n",
            "Epoch 136/150\n",
            "57457/57457 [==============================] - 2s 31us/step - loss: 0.5426 - accuracy: 0.7328\n",
            "Epoch 137/150\n",
            "57457/57457 [==============================] - 2s 31us/step - loss: 0.5426 - accuracy: 0.7333\n",
            "Epoch 138/150\n",
            "57457/57457 [==============================] - 2s 31us/step - loss: 0.5426 - accuracy: 0.7327\n",
            "Epoch 139/150\n",
            "57457/57457 [==============================] - 2s 32us/step - loss: 0.5424 - accuracy: 0.7330\n",
            "Epoch 140/150\n",
            "57457/57457 [==============================] - 2s 32us/step - loss: 0.5426 - accuracy: 0.7323\n",
            "Epoch 141/150\n",
            "57457/57457 [==============================] - 2s 32us/step - loss: 0.5426 - accuracy: 0.7330\n",
            "Epoch 142/150\n",
            "57457/57457 [==============================] - 2s 32us/step - loss: 0.5427 - accuracy: 0.7329\n",
            "Epoch 143/150\n",
            "57457/57457 [==============================] - 2s 32us/step - loss: 0.5425 - accuracy: 0.7330\n",
            "Epoch 144/150\n",
            "57457/57457 [==============================] - 2s 33us/step - loss: 0.5425 - accuracy: 0.7330\n",
            "Epoch 145/150\n",
            "57457/57457 [==============================] - 2s 32us/step - loss: 0.5425 - accuracy: 0.7328\n",
            "Epoch 146/150\n",
            "57457/57457 [==============================] - 2s 32us/step - loss: 0.5427 - accuracy: 0.7330\n",
            "Epoch 147/150\n",
            "57457/57457 [==============================] - 2s 32us/step - loss: 0.5424 - accuracy: 0.7324\n",
            "Epoch 148/150\n",
            "57457/57457 [==============================] - 2s 32us/step - loss: 0.5426 - accuracy: 0.7325\n",
            "Epoch 149/150\n",
            "57457/57457 [==============================] - 2s 31us/step - loss: 0.5425 - accuracy: 0.7330\n",
            "Epoch 150/150\n",
            "57457/57457 [==============================] - 2s 31us/step - loss: 0.5427 - accuracy: 0.7333\n"
          ],
          "name": "stdout"
        },
        {
          "output_type": "execute_result",
          "data": {
            "text/plain": [
              "<keras.callbacks.callbacks.History at 0x7f5a6f424f60>"
            ]
          },
          "metadata": {
            "tags": []
          },
          "execution_count": 60
        }
      ]
    },
    {
      "cell_type": "code",
      "metadata": {
        "id": "wmfIP4nrLn-5",
        "colab_type": "code",
        "colab": {}
      },
      "source": [
        "y_pred=classifier.predict(X_test)\n",
        "y_pred=(y_pred>0.5)\n"
      ],
      "execution_count": 0,
      "outputs": []
    },
    {
      "cell_type": "code",
      "metadata": {
        "id": "UOnEARNgLsLo",
        "colab_type": "code",
        "colab": {
          "base_uri": "https://localhost:8080/",
          "height": 34
        },
        "outputId": "798918d9-5554-4788-946c-2901268fd9ba"
      },
      "source": [
        "from sklearn.metrics import accuracy_score\n",
        "accuracy_score(y_test, y_pred)\n"
      ],
      "execution_count": 70,
      "outputs": [
        {
          "output_type": "execute_result",
          "data": {
            "text/plain": [
              "0.7285826155050901"
            ]
          },
          "metadata": {
            "tags": []
          },
          "execution_count": 70
        }
      ]
    },
    {
      "cell_type": "code",
      "metadata": {
        "id": "zvTkL54KLvY2",
        "colab_type": "code",
        "colab": {}
      },
      "source": [
        ""
      ],
      "execution_count": 0,
      "outputs": []
    },
    {
      "cell_type": "code",
      "metadata": {
        "id": "ByGlPvDHMEeH",
        "colab_type": "code",
        "colab": {}
      },
      "source": [
        ""
      ],
      "execution_count": 0,
      "outputs": []
    },
    {
      "cell_type": "code",
      "metadata": {
        "id": "bfASOpQ4MHoL",
        "colab_type": "code",
        "colab": {}
      },
      "source": [
        ""
      ],
      "execution_count": 0,
      "outputs": []
    },
    {
      "cell_type": "code",
      "metadata": {
        "id": "IUnXJXGoOzc3",
        "colab_type": "code",
        "colab": {}
      },
      "source": [
        ""
      ],
      "execution_count": 0,
      "outputs": []
    },
    {
      "cell_type": "code",
      "metadata": {
        "id": "UQj5if_mPhg6",
        "colab_type": "code",
        "colab": {}
      },
      "source": [
        ""
      ],
      "execution_count": 0,
      "outputs": []
    }
  ]
}